{
  "cells": [
    {
      "cell_type": "markdown",
      "metadata": {},
      "source": [
        "# Examen Machine Learning \n",
        "### HOGENT - Toegepaste Informatica\n",
        "### 14 juni 2022\n",
        "<mark>\n",
        "Het examen is open boek. Je mag dus alles gebruiken, maar op geen enkele manier communiceren met anderen (binnen en buiten het lokaal). \n",
        "Alles wat je nodig hebt, staat in de cursus. Je mag ook het boek gebruiken of digitaal op je laptop raadplegen. Het internet staat open, maar je hebt zeker geen tijd  om lang te zoeken in de cursus of om het internet af te schuimen. \n",
        "Gebruik de oplossingsmethoden die gezien zijn in de cursus en geen alternatieven die je ergens van het internet hebt geplukt. \n",
        "</mark>  \n",
        "\n",
        "**Beantwoord elke vraag in de cel die er onmiddellijk onder staat**. \n",
        "\n",
        "Totaal: 120 punten"
      ]
    },
    {
      "cell_type": "markdown",
      "metadata": {
        "id": "3ODRUWzk70I5"
      },
      "source": [
        "## Vraag 1 - Datavoorbereiding (4 pt)"
      ]
    },
    {
      "cell_type": "markdown",
      "metadata": {},
      "source": [
        "1.1. Leg uit in welke gevallen je, in de fase van de datavoorbereiding, gebruik maakt van _ordinal encoding_ en wanneer van _one hot encoding_. Leg hierbij beide begrippen duidelijk uit. "
      ]
    },
    {
      "cell_type": "markdown",
      "metadata": {},
      "source": [
        "Beide encodingstechnieken gaan we gebruiken in de data preparation fase.\n",
        "\n",
        "* We maken gebruik van ordinal encoding wanneer we klassen of variabelen hebben die een orde verwachten. Bijvoorbeeld als we de leeftijdsklassen willen bijhouden willen we ervoor zorgen dat iedere waarde van een andere orde is. Bijvoorbeeld eerst een baby gevolgd door een tiener, daarna een volwassene, etc.\n",
        "\n",
        "* One Hot Encoding gebruiken we om voor iedere unieke waarde van een variabele een extra kolom te voorzien. Zo kunnen wij bijvoorbeeld voor de datumklasse voor ieder uur een extra kolom maken. Voor een variabele die het land aangeeft gaan we dan kolommen maken voor ieder land zoals Maand_België, Maand_Frankrijk, etc."
      ]
    },
    {
      "cell_type": "markdown",
      "metadata": {},
      "source": [
        "1.2. Wat is het voordeel van gebruikt te maken van een Pipeline die zowel de datavoorbereiding als de training bevat? "
      ]
    },
    {
      "cell_type": "markdown",
      "metadata": {},
      "source": [
        "* Een pipeline zorgt ervoor dat we verschillende transformers, scalers, classifiers en/of regressors sequentieel kunnen uitvoeren. Op deze manier hebben we in onze code ook een overzicht van welke acties het model uitvoert op de data."
      ]
    },
    {
      "cell_type": "markdown",
      "metadata": {},
      "source": [
        "## Vraag 2 - Classifiers en regressors (10 pt)\n",
        "\n",
        "2.1. Welk uniek voordeel hebben decision trees t.o.v. alle andere algoritmen die we gezien hebben? "
      ]
    },
    {
      "cell_type": "markdown",
      "metadata": {},
      "source": [
        "* Decision trees werken sneller en efficiënter. Een model met een decision tree vereist minder datavoorbereiding. Bij een decision tree hebben wij geen feature scaling nodig. "
      ]
    },
    {
      "cell_type": "markdown",
      "metadata": {},
      "source": [
        "2.2. Welk probleem ontstaat als je het CART Training algoritme voor decision trees zijn gang laat gaan? Leg uit. "
      ]
    },
    {
      "cell_type": "markdown",
      "metadata": {},
      "source": [
        "* We kunnen enkel werken met binaire bomen. Bij een regressiemodel kunnen wij zo enkel achterhalen of een waarde groter of kleiner is. Er zijn maar twee opties mogelijk.\n",
        "Daarnaast kunnen we ook overfitting hebben als we een te hoge samples_leaf hebben."
      ]
    },
    {
      "cell_type": "markdown",
      "metadata": {},
      "source": [
        "2.3. Bespreek (minstens) twee categoriën van oplossingen om dit probleem tegen te gaan. "
      ]
    },
    {
      "cell_type": "markdown",
      "metadata": {},
      "source": [
        "* We kunnen de minimum_samples_leaf verkleinen om overfitting tegen te gaan. "
      ]
    },
    {
      "cell_type": "markdown",
      "metadata": {},
      "source": [
        "2.4. Leg uit: de computationele complexiteit van het CART training algorithm is $O(n \\times m log_2(m))$"
      ]
    },
    {
      "cell_type": "markdown",
      "metadata": {},
      "source": [
        "* Dit duidt aan op een relatief snelle uitvoering van het model. De $(m log_2(m))$ duidt aan op de binaire structuur van de boom. Bij iedere diepte gaan we het aantal mogelijkheden in twee opsplitsen. De n verwijst naar het aantal nodes dat de boom bevat."
      ]
    },
    {
      "cell_type": "markdown",
      "metadata": {},
      "source": [
        "2.5. In de cursus kwamen heel wat classifiers en regressors aan bod. Hieronder staan 5 omschrijvingen. **Geef telkens de juiste naam van de (groep van) classifiers of regressors**.  \n",
        "\n",
        "2.5.1. Er wordt een model gecreëerd op basis van de training data. Daarna wordt er een model gecreëerd dat de fouten van het vorige model probeert te corrigeren. Enz."
      ]
    },
    {
      "cell_type": "markdown",
      "metadata": {},
      "source": [
        "* Gradient Boost"
      ]
    },
    {
      "cell_type": "markdown",
      "metadata": {},
      "source": [
        "2.5.2. Een n-dimensionale ruimte van inputvariabelen wordt opgedeeld in klassen op basis van rechten of (hypervlakken) en grenzen. Het trainen van het algoritme komt neer op het vinden van de best mogelijke coëfficiënten voor het opdelen van de ruimte. De afstand van de grenzen tot de dichtste coördinaten wordt de margin genoemd."
      ]
    },
    {
      "cell_type": "markdown",
      "metadata": {},
      "source": [
        "* SVM"
      ]
    },
    {
      "cell_type": "markdown",
      "metadata": {},
      "source": [
        "2.5.3. Een classifier die op basis van coëfficiënten vermenigvuldigd met de inputvariabelen (een lineaire combinatie van de inputvariabelen dus), de kans berekent dat een bepaalde input tot de ene klasse, dan wel tot de andere klasse behoort"
      ]
    },
    {
      "cell_type": "markdown",
      "metadata": {},
      "source": [
        "* SVC"
      ]
    },
    {
      "cell_type": "markdown",
      "metadata": {},
      "source": [
        "2.5.4. Een iteratief algoritme dat gebruikt wordt om een (lokaal) minimum of maximum te vinden."
      ]
    },
    {
      "cell_type": "markdown",
      "metadata": {},
      "source": [
        "* Softmax regressie"
      ]
    },
    {
      "cell_type": "markdown",
      "metadata": {},
      "source": [
        "## Vraag 3 - NLP en neurale netwerken (32 pt)"
      ]
    },
    {
      "cell_type": "markdown",
      "metadata": {},
      "source": [
        "Bekijk de oplossing van de oefening Email Classisification met NN (notebook https://colab.research.google.com/github/jdecorte/machinelearning/blob/main/solutions/133-exercise_email_classification_solution.ipynb). Beantwoord de volgende 16 vragen. \n",
        "\n",
        "3.1. Bekijk de implementatie van de functie `remove_stopwords_nl`. Eigenlijk is de naam van de functie een beetje ongelukkig gekozen.  Wat doet deze functie allemaal? Beschrijf met je eigen woorden (geen Python!) en wees volledig. Leg hierbij o.a. uit waarom stemming of lemmatization belangrijke stappen zijn bij de datavoorbereiding van documenten voor machine learning. \n"
      ]
    },
    {
      "cell_type": "markdown",
      "metadata": {},
      "source": [
        "* Als parameters geven wij een string mee. Dit is een lange tekst of zin van woorden. Allereerst gaan wij word_tokenize gebruiken om de volledige tekst te gaan opdelen per woord. We gaan de tekst naar lowercase gaan omzetten. Met stemming gaan we ieder woord gaan doorlopen en kijken of deze in de lijst van stopwoorden terug te vinden is. Met de separator gaan we alle woorden weer samenvoegen tot één zin. Deze zin zal geen stopwoorden meer bevatten. Tussen ieder woord zal er een spatie zijn.\n",
        "\n",
        "* Het verschil tussen stemming en lemmatization is dat we bij stemming de stam van een woord gaan achterhalen. Lemmatization gaat het woord omzetten naar de basisvorm. Deze hebben wij nodig om extra rekening te houden met de mogelijke stopwoorden. Vervoegingen kunnen een anomalie vormen bij het terugvinden van de stopwoorden in een string.\n"
      ]
    },
    {
      "cell_type": "markdown",
      "metadata": {},
      "source": [
        "3.2. Met behulp van de onderstaande code worden de categorieën vervangen door de cijfers 0 .. 3\n",
        "```python\n",
        "dict_map = {'NEWS': 0, 'ADS': 1, 'JOB': 2, 'ICT': 3}\n",
        "data['Category'] = data['Category'].map(dict_map)\n",
        "```\n",
        "Waarom wordt dit gedaan? Zouden we dit ook mogen vervangen door de cijfers 1 .. 4?"
      ]
    },
    {
      "cell_type": "markdown",
      "metadata": {},
      "source": [
        "* We moeten classificeren op basis van numerieke waarden. We kunnen geen gebruik maken van tekstobjecten zoals 'News' of 'Ads'. Alle rijen met 'News' zullen de Categorie-waarde 0 krijgen, alle rijen met ADS zullen categorie 1 krijgen, enz. We mogen dit niet veranderen naar 1 tot en met 4. De waarden moeten beginnen met 0."
      ]
    },
    {
      "cell_type": "markdown",
      "metadata": {},
      "source": [
        "3.3. In de onderstaande code wordt de lengte van de tekst in de kolom Text bepaald.\n",
        "```python\n",
        "data['numberOfWords'] = data.Text.str.split().apply(len)\n",
        "```\n",
        "Leg in je eigen woorden uit waarom het belangrijk is dat we de lengte van de tekst kennen."
      ]
    },
    {
      "cell_type": "markdown",
      "metadata": {},
      "source": [
        "* Op basis van de lengte kunnen we meer info opvragen over de gehele dataset. Zo kunnen we weten wat de outliers zijn, bijvoorbeeld teksten die een aantal woorden hebben die groter is dan Q3, en wat de gemiddelde lengte van een tekst is. Op basis van de lengte kunnen we ook de parameters achterhalen voor een eventuele vectorizer afhankelijk van de toepassing."
      ]
    },
    {
      "cell_type": "markdown",
      "metadata": {},
      "source": [
        "3.4.  Gegegeven de volgende code\n",
        "```python\n",
        "vectorizer = TextVectorization(max_tokens=60000, output_sequence_length=2500)\n",
        "```\n",
        "Wat is de betekenis van `max_tokens = 60000`?\n",
        "\n",
        "Wat is de betekenis van `output_sequence_length=2500`? Moet dit exact 2500 zijn? Mag dit ook een andere waarde zijn?"
      ]
    },
    {
      "cell_type": "markdown",
      "metadata": {},
      "source": [
        "* De max_tokens duidt aan hoe groot onze vector of vocabulary zal zijn. Als we niets meegeven zal er geen grens zijn.\n",
        "\n",
        "* output_sequence_length duidt aan hoe groot de dimensie moet zijn van de shape. Deze waarde mogen we kiezen. Als de waarde te groot is wordt de rest opgevuld, als de waarde te klein is wordt de rest afgesneden."
      ]
    },
    {
      "cell_type": "markdown",
      "metadata": {},
      "source": [
        "3.5. Gegeven de volgende code en output\n",
        "\n",
        "```python\n",
        "# Vectorize a small sentence \"morgen ontvangt u een nieuw bericht\"\n",
        "\n",
        "output = vectorizer([[\"morgen ontvangt u een nieuw bericht\"]])\n",
        "output.numpy()[0, :20]\n",
        "\n",
        "array([22567,   391,   181,     1,   135,   320,     0,     0,     0,\n",
        "           0,     0,     0,     0,     0,     0,     0,     0,     0,\n",
        "           0,     0], dtype=int64)# \n",
        "```\n",
        "- Wat is de betekenis van 181?\n",
        "- Wat is de betekenis van 1?\n",
        "- Wat is de betekenis van 0?"
      ]
    },
    {
      "cell_type": "markdown",
      "metadata": {},
      "source": [
        "181 staat hier voor 'u'. 1 staat hier voor 'een'. Dit zijn de indexen uit de dictionary die we hebben opgehaald. Ze geven aan waar de woorden, bijvoorbeeld 'u' zich bevinden in de array. De nullen stellen padding voor. We hebben gekozen voor een output array van twintig woorden. Er worden maar vijf woorden gebruikt dus wordt de rest als padding gezien."
      ]
    },
    {
      "cell_type": "markdown",
      "metadata": {},
      "source": [
        "3.6. Wat is de bedoeling van `embeddings_index[word] = coefs`?"
      ]
    },
    {
      "cell_type": "markdown",
      "metadata": {},
      "source": [
        "* We vragen van een bepaald woord de verschillende karakters op. Ieder karakter ('a', 'b', spatie, etc) wordt bijgehouden in een lijst. We krijgen hier een lijst met de indexwaarden van de karakters terug."
      ]
    },
    {
      "cell_type": "markdown",
      "metadata": {},
      "source": [
        "3.7. Wat is de lengte van `embeddings_index['fiets']`. Leg kort uit waarom."
      ]
    },
    {
      "cell_type": "markdown",
      "metadata": {},
      "source": [
        "* Vijf. Voor iedere letter wordt er een index teruggegeven. Dus één index voor ieder karakter."
      ]
    },
    {
      "cell_type": "markdown",
      "metadata": {},
      "source": [
        "3.8. Het aantal hits = 14873 en het aantal misses = 45127. \n",
        "Leg in je eigen woorden uit wat de bedoeling is van hits en misses.\n",
        "Is het noodzakelijk dat je dit berekent voor het verder verloop van de code?"
      ]
    },
    {
      "cell_type": "markdown",
      "metadata": {},
      "source": [
        "* Hits wilt zeggen dat een woord overeenkomt met het bewaarde woord in de lijst. Een miss wilt zeggen dat dit niet overeenkomt.\n",
        "\n",
        "* De nauwkeurigheid van het model zal lijden afhankelijk van het aantal hits en misses. "
      ]
    },
    {
      "cell_type": "markdown",
      "metadata": {},
      "source": [
        "3.9. Wat is de bedoeling van de layer Flatten in het neuraal netwerk?"
      ]
    },
    {
      "cell_type": "markdown",
      "metadata": {},
      "source": [
        "* In de voorafgaande poolingsfase wordt er een map aangemaakt. Deze mapping gaan we omzetten naar een eendimensionale vector. Met andere woorden gaan we van een soortgelijke grid-vorm naar een 1D lijst."
      ]
    },
    {
      "cell_type": "markdown",
      "metadata": {},
      "source": [
        "3.10. Hoeveel neuronen telt elke Dense layer?"
      ]
    },
    {
      "cell_type": "markdown",
      "metadata": {},
      "source": [
        "* Om het aantal neuronen te bepalen moeten we kijken naar de voorafgaande lagen. Het aantal neuronen zal verminderen richting de outputlayer toe. Het hoogst aantal neuronen zal altijd liggen tussen de grootte van de inputlaag (grootste aantal) en de grootte van de outputlaag (kleinste aantal)."
      ]
    },
    {
      "cell_type": "markdown",
      "metadata": {},
      "source": [
        "3.11. Leg de betekenis uit van\n",
        "```python\n",
        "keras.layers.Dropout(rate=0.25)\n",
        "```\n",
        "Waarom doen we dit? "
      ]
    },
    {
      "cell_type": "markdown",
      "metadata": {},
      "source": [
        "* Bij een drop-out gaan we een neuroon, inclusief de inputneuronen, tijdelijk uit het model gaan plaatsen. Tijdens de trainingsstap wordt de neuroon genegeerd, maar de volgende stap kan deze weer ingezet worden."
      ]
    },
    {
      "cell_type": "markdown",
      "metadata": {},
      "source": [
        "3.12. Stel dat je de architectuur van het netwerk uittekent, hoeveel hidden layers telt dit neuraal netwerk dan?"
      ]
    },
    {
      "cell_type": "markdown",
      "metadata": {},
      "source": [
        "* Ik zou hier kiezen voor hoogstens vijf hidden layers."
      ]
    },
    {
      "cell_type": "markdown",
      "metadata": {},
      "source": [
        "3.13. Hadden we in plaats van `activation='softmax'` ook `activation='sigmoid'` kunnen gebruiken? Leg kort uit waarom of waarom niet."
      ]
    },
    {
      "cell_type": "markdown",
      "metadata": {},
      "source": [
        "* Sigmoïde kunnen we enkel gebruiken als binaire classifier. Softmax laat ons toe om meerdere klassen te gaan voorspellen."
      ]
    },
    {
      "cell_type": "markdown",
      "metadata": {},
      "source": [
        "3.14. Onderaan staan er 2 grafieken die specifiek zijn voor Neurale Netwerken. Wat is de correcte benaming van deze curven?"
      ]
    },
    {
      "cell_type": "markdown",
      "metadata": {},
      "source": [
        "* Dit zijn twee activatiefuncties."
      ]
    },
    {
      "cell_type": "markdown",
      "metadata": {},
      "source": [
        "3.15. Verklaar de benaming en leg uit waar en hoe deze curven gebruikt worden. Verklaar hierbij ook de vier termen: Epochs, Accuracy, Train, Validation. "
      ]
    },
    {
      "cell_type": "markdown",
      "metadata": {},
      "source": [
        "* Het aantal epochs is het aantal keer dat een dataset wordt doorlopen. Hoe groter het aantal epochs, hoe langer het programma zal moeten draaien."
      ]
    },
    {
      "cell_type": "markdown",
      "metadata": {},
      "source": [
        "3.16. Leg uit waarom je bij het opbouwen van de lagen van een neuraal netwerk voor de outputlaag bij een regressieprobleem, in tegenstelling tot bij een classificatieprobleem, doorgaans geen activatiefunctie gebruikt."
      ]
    },
    {
      "cell_type": "markdown",
      "metadata": {},
      "source": []
    },
    {
      "cell_type": "markdown",
      "metadata": {},
      "source": [
        "## Vraag 4 - Project Musti (8 pt)\n",
        "4.1. Meer dan 5000 foto's met een resolutie van 640 x 350 is behoorlijk veel. Wat heb je gedaan om de hoeveelheid data te reduceren zonder noemenswaardig verlies aan informatie? "
      ]
    },
    {
      "cell_type": "markdown",
      "metadata": {},
      "source": [
        "* Wij hebben voor de foto's gebruik gemaakt van subsampling. Op deze manier was onze input een stuk kleiner zonder dat we belangrijke data verloren."
      ]
    },
    {
      "cell_type": "markdown",
      "metadata": {},
      "source": [
        "4.2. Welk algoritme heb je gekozen om het model op te stellen? "
      ]
    },
    {
      "cell_type": "markdown",
      "metadata": {},
      "source": [
        "* Wij hebben meerdere algoritmes gebruikt. Uiteindelijk hebben wij, voor aanvang van de presentatie, voor een CNN gekozen. Dit omdat CNN een net betere nauwkeurigheidsgraad had vergeleken met de random forest regressor. Enkel hadden wij per ongeluk onze afmetingen omgewisseld. Na deze aanpassing was het verschil tussen de twee modellen zeer duidelijk. Met CNN houden wij ook rekening met mogelijke verschuivingen van de camera."
      ]
    },
    {
      "cell_type": "markdown",
      "metadata": {},
      "source": [
        "4.3. Wat heb je gedaan om het optimale algoritme en de optimale parametercombinatie te vinden? "
      ]
    },
    {
      "cell_type": "markdown",
      "metadata": {},
      "source": [
        "* Wij hebben eerst een GridSearch ontworpen om te achterhalen welk model we best gebruiken. Hier stonden we extra stil bij de RandomForestClassifier om de juiste parameters terug te vinden. Bij het convolutionele netwerk hebben wij zowel een eigen structuur opgesteld alsook gewerkt met de LeNet-5 structuur. Hier merkten we dat LeNet ons niet echt hielp en we zijn bij ons model gebleven."
      ]
    },
    {
      "cell_type": "markdown",
      "metadata": {},
      "source": [
        "   4.4. Zou je, nu je (hopelijk) de cursus volledig gestudeerd hebt, nog steeds voor het zelfde algoritme kiezen? Waarom wel of waarom niet? "
      ]
    },
    {
      "cell_type": "markdown",
      "metadata": {},
      "source": [
        "* Persoonlijk blijf ik bij de keuze van het CNN. Achteraf had ik tijdens de voorbereiding op mijn examen nog geprobeerd om enkele lagen toe te voegen, maar het resultaat had geen zichtbare verbeteringen. Voor deze case is het aanpakken van de verschuivingen iets wat ik persoonlijk belangrijk vindt. Een mogelijke verschuiving van de camera kan het model ondermijnen. Andere modellen houden hier weinig tot geen rekening mee."
      ]
    },
    {
      "cell_type": "markdown",
      "metadata": {},
      "source": [
        "## Vraag 5 - Oefening (66 pt)"
      ]
    },
    {
      "cell_type": "markdown",
      "metadata": {},
      "source": [
        "Deze onderstaande dataset bevat data van cardiotocogrammen die gemaakt werden bij prenatale echo's. Door 3 experten werd een classificatie gedaan, zowel met betrekking tot het morfologisch patroon (CLASS) als met betrekking tot de toestand van de foetus (NSP). Dus zowel de kolom CLASS als de kolom NSP bevatten een 'score' die de 3 experten aan de data gaven.  \n",
        "Daarom kan deze dataset gebruikt worden voor een 10-class of voor een 3-class classificatie.  \n",
        "\n",
        "\n",
        "* LB - FHR-basislijn (slagen per minuut)    \n",
        "* AC - aantal versnellingen per seconde  \n",
        "* FM - aantal foetale bewegingen per seconde  \n",
        "* UC - aantal baarmoedersamentrekkingen per seconde  \n",
        "* DL - aantal lichtvertragingen per seconde  \n",
        "* DS - aantal ernstige vertragingen per seconde  \n",
        "* DP - aantal langdurige vertragingen per seconde  \n",
        "* ASTV - percentage van de tijd met abnormale kortetermijnvariabiliteit  \n",
        "* MSTV - gemiddelde waarde van kortetermijnvariabiliteit  \n",
        "* ALTV - percentage van de tijd met abnormale langetermijnvariabiliteit  \n",
        "* MLTV - gemiddelde waarde van langetermijnvariabiliteit  \n",
        "* Width - breedte van FHR-histogram  \n",
        "* Min - minimum van FHR-histogram  \n",
        "* Max - Maximum van FHR-histogram  \n",
        "* Nmax - aantal histogrampieken  \n",
        "* Nzeros - aantal histogramnullen  \n",
        "* Mode - histogrammodus  \n",
        "* Mean - histogram gemiddelde  \n",
        "* Median - histogram mediaan  \n",
        "* Variance - histogramvariantie  \n",
        "* Tendency - histogramtendens  \n",
        "* CLASS - klassecode van de FHR (1 tot 10)\n",
        "* NSP - klassecode van de toestand van de foetus (1 -> N=normaal; 2 -> S=verdacht (suspect); 3 -> P=pathologisch (= dit wijst op een ziekte))"
      ]
    },
    {
      "cell_type": "code",
      "execution_count": 16,
      "metadata": {},
      "outputs": [],
      "source": [
        "# Importing the necessary packages\n",
        "import numpy as np                                  # \"Scientific computing\"\n",
        "import scipy.stats as stats                         # Statistical tests\n",
        "\n",
        "import pandas as pd                                 # Data Frame\n",
        "from pandas.api.types import CategoricalDtype\n",
        "\n",
        "import matplotlib.pyplot as plt                     # Basic visualisation\n",
        "import seaborn as sns                               # Advanced data visualisation\n",
        "\n",
        "from numpy import mean\n",
        "from numpy import std\n",
        "from numpy import absolute\n",
        "from pandas import read_csv\n",
        "from sklearn.model_selection import cross_val_score\n",
        "\n",
        "\n",
        "from sklearn.compose import ColumnTransformer\n",
        "from sklearn.pipeline import Pipeline\n",
        "from sklearn.preprocessing import MinMaxScaler\n",
        "from sklearn.preprocessing import StandardScaler\n",
        "from sklearn.ensemble import RandomForestClassifier\n",
        "from sklearn.ensemble import VotingClassifier\n",
        "from sklearn.linear_model import LogisticRegression\n",
        "from sklearn.svm import SVC\n",
        "from sklearn.metrics import accuracy_score\n",
        "from sklearn.metrics import confusion_matrix\n",
        "from sklearn.model_selection import GridSearchCV\n",
        "from sklearn.ensemble import BaggingClassifier\n",
        "from sklearn.ensemble import ExtraTreesClassifier\n",
        "from sklearn.ensemble import AdaBoostClassifier\n",
        "from sklearn.ensemble import GradientBoostingClassifier"
      ]
    },
    {
      "cell_type": "code",
      "execution_count": 17,
      "metadata": {},
      "outputs": [
        {
          "name": "stdout",
          "output_type": "stream",
          "text": [
            "You are not running on Google Colab\n"
          ]
        }
      ],
      "source": [
        "if 'google.colab' in str(get_ipython()):\n",
        "    colab = True\n",
        "    print ('You are running on Google Colab')\n",
        "else:\n",
        "    colab = False\n",
        "    print ('You are not running on Google Colab')\n",
        "\n",
        "if colab:\n",
        "    from google.colab import drive\n",
        "    drive.mount('/content/gdrive')"
      ]
    },
    {
      "cell_type": "code",
      "execution_count": 18,
      "metadata": {},
      "outputs": [
        {
          "data": {
            "text/html": [
              "<div>\n",
              "<style scoped>\n",
              "    .dataframe tbody tr th:only-of-type {\n",
              "        vertical-align: middle;\n",
              "    }\n",
              "\n",
              "    .dataframe tbody tr th {\n",
              "        vertical-align: top;\n",
              "    }\n",
              "\n",
              "    .dataframe thead th {\n",
              "        text-align: right;\n",
              "    }\n",
              "</style>\n",
              "<table border=\"1\" class=\"dataframe\">\n",
              "  <thead>\n",
              "    <tr style=\"text-align: right;\">\n",
              "      <th></th>\n",
              "      <th>LB</th>\n",
              "      <th>AC</th>\n",
              "      <th>FM</th>\n",
              "      <th>UC</th>\n",
              "      <th>DL</th>\n",
              "      <th>DS</th>\n",
              "      <th>DP</th>\n",
              "      <th>ASTV</th>\n",
              "      <th>MSTV</th>\n",
              "      <th>ALTV</th>\n",
              "      <th>...</th>\n",
              "      <th>Max</th>\n",
              "      <th>Nmax</th>\n",
              "      <th>Nzeros</th>\n",
              "      <th>Mode</th>\n",
              "      <th>Mean</th>\n",
              "      <th>Median</th>\n",
              "      <th>Variance</th>\n",
              "      <th>Tendency</th>\n",
              "      <th>CLASS</th>\n",
              "      <th>NSP</th>\n",
              "    </tr>\n",
              "  </thead>\n",
              "  <tbody>\n",
              "    <tr>\n",
              "      <th>0</th>\n",
              "      <td>120.0</td>\n",
              "      <td>0.000</td>\n",
              "      <td>0.0</td>\n",
              "      <td>0.000</td>\n",
              "      <td>0.000</td>\n",
              "      <td>0.0</td>\n",
              "      <td>0.0</td>\n",
              "      <td>73.0</td>\n",
              "      <td>0.5</td>\n",
              "      <td>43.0</td>\n",
              "      <td>...</td>\n",
              "      <td>126.0</td>\n",
              "      <td>2.0</td>\n",
              "      <td>0.0</td>\n",
              "      <td>120.0</td>\n",
              "      <td>137.0</td>\n",
              "      <td>121.0</td>\n",
              "      <td>73.0</td>\n",
              "      <td>1.0</td>\n",
              "      <td>9</td>\n",
              "      <td>2.0</td>\n",
              "    </tr>\n",
              "    <tr>\n",
              "      <th>1</th>\n",
              "      <td>132.0</td>\n",
              "      <td>0.006</td>\n",
              "      <td>0.0</td>\n",
              "      <td>0.006</td>\n",
              "      <td>0.003</td>\n",
              "      <td>0.0</td>\n",
              "      <td>0.0</td>\n",
              "      <td>17.0</td>\n",
              "      <td>2.1</td>\n",
              "      <td>0.0</td>\n",
              "      <td>...</td>\n",
              "      <td>198.0</td>\n",
              "      <td>6.0</td>\n",
              "      <td>1.0</td>\n",
              "      <td>141.0</td>\n",
              "      <td>136.0</td>\n",
              "      <td>140.0</td>\n",
              "      <td>12.0</td>\n",
              "      <td>0.0</td>\n",
              "      <td>6</td>\n",
              "      <td>1.0</td>\n",
              "    </tr>\n",
              "    <tr>\n",
              "      <th>2</th>\n",
              "      <td>133.0</td>\n",
              "      <td>0.003</td>\n",
              "      <td>0.0</td>\n",
              "      <td>0.008</td>\n",
              "      <td>0.003</td>\n",
              "      <td>0.0</td>\n",
              "      <td>0.0</td>\n",
              "      <td>16.0</td>\n",
              "      <td>2.1</td>\n",
              "      <td>0.0</td>\n",
              "      <td>...</td>\n",
              "      <td>198.0</td>\n",
              "      <td>5.0</td>\n",
              "      <td>1.0</td>\n",
              "      <td>141.0</td>\n",
              "      <td>135.0</td>\n",
              "      <td>138.0</td>\n",
              "      <td>13.0</td>\n",
              "      <td>0.0</td>\n",
              "      <td>6</td>\n",
              "      <td>1.0</td>\n",
              "    </tr>\n",
              "    <tr>\n",
              "      <th>3</th>\n",
              "      <td>134.0</td>\n",
              "      <td>0.003</td>\n",
              "      <td>0.0</td>\n",
              "      <td>0.008</td>\n",
              "      <td>0.003</td>\n",
              "      <td>0.0</td>\n",
              "      <td>0.0</td>\n",
              "      <td>16.0</td>\n",
              "      <td>2.4</td>\n",
              "      <td>0.0</td>\n",
              "      <td>...</td>\n",
              "      <td>170.0</td>\n",
              "      <td>11.0</td>\n",
              "      <td>0.0</td>\n",
              "      <td>137.0</td>\n",
              "      <td>134.0</td>\n",
              "      <td>137.0</td>\n",
              "      <td>13.0</td>\n",
              "      <td>1.0</td>\n",
              "      <td>6</td>\n",
              "      <td>1.0</td>\n",
              "    </tr>\n",
              "    <tr>\n",
              "      <th>4</th>\n",
              "      <td>132.0</td>\n",
              "      <td>0.007</td>\n",
              "      <td>0.0</td>\n",
              "      <td>0.008</td>\n",
              "      <td>0.000</td>\n",
              "      <td>0.0</td>\n",
              "      <td>0.0</td>\n",
              "      <td>16.0</td>\n",
              "      <td>2.4</td>\n",
              "      <td>0.0</td>\n",
              "      <td>...</td>\n",
              "      <td>170.0</td>\n",
              "      <td>9.0</td>\n",
              "      <td>0.0</td>\n",
              "      <td>137.0</td>\n",
              "      <td>136.0</td>\n",
              "      <td>138.0</td>\n",
              "      <td>11.0</td>\n",
              "      <td>1.0</td>\n",
              "      <td>2</td>\n",
              "      <td>1.0</td>\n",
              "    </tr>\n",
              "  </tbody>\n",
              "</table>\n",
              "<p>5 rows × 23 columns</p>\n",
              "</div>"
            ],
            "text/plain": [
              "      LB     AC   FM     UC     DL   DS   DP  ASTV  MSTV  ALTV  ...    Max  \\\n",
              "0  120.0  0.000  0.0  0.000  0.000  0.0  0.0  73.0   0.5  43.0  ...  126.0   \n",
              "1  132.0  0.006  0.0  0.006  0.003  0.0  0.0  17.0   2.1   0.0  ...  198.0   \n",
              "2  133.0  0.003  0.0  0.008  0.003  0.0  0.0  16.0   2.1   0.0  ...  198.0   \n",
              "3  134.0  0.003  0.0  0.008  0.003  0.0  0.0  16.0   2.4   0.0  ...  170.0   \n",
              "4  132.0  0.007  0.0  0.008  0.000  0.0  0.0  16.0   2.4   0.0  ...  170.0   \n",
              "\n",
              "   Nmax  Nzeros   Mode   Mean  Median  Variance  Tendency  CLASS  NSP  \n",
              "0   2.0     0.0  120.0  137.0   121.0      73.0       1.0      9  2.0  \n",
              "1   6.0     1.0  141.0  136.0   140.0      12.0       0.0      6  1.0  \n",
              "2   5.0     1.0  141.0  135.0   138.0      13.0       0.0      6  1.0  \n",
              "3  11.0     0.0  137.0  134.0   137.0      13.0       1.0      6  1.0  \n",
              "4   9.0     0.0  137.0  136.0   138.0      11.0       1.0      2  1.0  \n",
              "\n",
              "[5 rows x 23 columns]"
            ]
          },
          "execution_count": 18,
          "metadata": {},
          "output_type": "execute_result"
        }
      ],
      "source": [
        "if colab:\n",
        "    df = pd.read_csv('/content/gdrive/MyDrive/DataEchos.csv', delimiter=\";\")\n",
        "else:\n",
        "    df = pd.read_csv('DataEchos.csv', delimiter=\";\")\n",
        "df.head()\n"
      ]
    },
    {
      "cell_type": "markdown",
      "metadata": {},
      "source": [
        "5.1. Geef algemene informatie over de  dataset (type van elke kolom, null waarden, ...)"
      ]
    },
    {
      "cell_type": "code",
      "execution_count": 19,
      "metadata": {},
      "outputs": [
        {
          "name": "stdout",
          "output_type": "stream",
          "text": [
            "<class 'pandas.core.frame.DataFrame'>\n",
            "RangeIndex: 2126 entries, 0 to 2125\n",
            "Data columns (total 23 columns):\n",
            " #   Column    Non-Null Count  Dtype  \n",
            "---  ------    --------------  -----  \n",
            " 0   LB        2126 non-null   float64\n",
            " 1   AC        2126 non-null   float64\n",
            " 2   FM        2126 non-null   float64\n",
            " 3   UC        2126 non-null   float64\n",
            " 4   DL        2126 non-null   float64\n",
            " 5   DS        2126 non-null   float64\n",
            " 6   DP        2126 non-null   float64\n",
            " 7   ASTV      2126 non-null   float64\n",
            " 8   MSTV      2126 non-null   float64\n",
            " 9   ALTV      2126 non-null   float64\n",
            " 10  MLTV      2126 non-null   float64\n",
            " 11  Width     2126 non-null   float64\n",
            " 12  Min       2126 non-null   float64\n",
            " 13  Max       2126 non-null   float64\n",
            " 14  Nmax      2126 non-null   float64\n",
            " 15  Nzeros    2126 non-null   float64\n",
            " 16  Mode      2126 non-null   float64\n",
            " 17  Mean      2126 non-null   float64\n",
            " 18  Median    2126 non-null   float64\n",
            " 19  Variance  2126 non-null   float64\n",
            " 20  Tendency  2126 non-null   float64\n",
            " 21  CLASS     2126 non-null   int64  \n",
            " 22  NSP       2126 non-null   float64\n",
            "dtypes: float64(22), int64(1)\n",
            "memory usage: 382.1 KB\n"
          ]
        }
      ],
      "source": [
        "df.info()"
      ]
    },
    {
      "cell_type": "markdown",
      "metadata": {},
      "source": [
        "5.2. Is dit een scheve (skewed) dataset? Geef het aantal records voor NSP = 1, 2 en 3.\n",
        "\n",
        "Er zijn overdreven veel waarden van klasse 1 vergeleken met 2 en 3. Eventueel kunnen we deze klasse op willekeurige manier gaan reduceren tot 300-400."
      ]
    },
    {
      "cell_type": "code",
      "execution_count": 20,
      "metadata": {},
      "outputs": [
        {
          "data": {
            "text/plain": [
              "1.0    1655\n",
              "2.0     295\n",
              "3.0     176\n",
              "Name: NSP, dtype: int64"
            ]
          },
          "execution_count": 20,
          "metadata": {},
          "output_type": "execute_result"
        }
      ],
      "source": [
        "df[(df['NSP'] == 3) | (df['NSP'] == 1) | (df['NSP'] == 2)]['NSP'].value_counts()"
      ]
    },
    {
      "cell_type": "markdown",
      "metadata": {},
      "source": [
        "5.3. In eerste instantie willen we de classificatie doen op basis van NSP (en níet CLASS).  \n",
        "Wat is X? Wat is y?"
      ]
    },
    {
      "cell_type": "code",
      "execution_count": 21,
      "metadata": {},
      "outputs": [],
      "source": [
        "X = df.drop(['NSP'],axis=1)\n",
        "y = df['NSP']"
      ]
    },
    {
      "cell_type": "markdown",
      "metadata": {},
      "source": [
        "5.4. Wat is X_train, y_train, X_test, y_test?"
      ]
    },
    {
      "cell_type": "code",
      "execution_count": 22,
      "metadata": {},
      "outputs": [],
      "source": [
        "from sklearn.model_selection import train_test_split    \n",
        "X_train, X_test, y_train, y_test = train_test_split(X, y, random_state=42)"
      ]
    },
    {
      "cell_type": "markdown",
      "metadata": {},
      "source": [
        "5.5. Wat zijn de numerieke kolommen in X?"
      ]
    },
    {
      "cell_type": "code",
      "execution_count": 23,
      "metadata": {},
      "outputs": [],
      "source": [
        "numerical_ix = X.select_dtypes(include=['int64', 'float64']).columns"
      ]
    },
    {
      "cell_type": "markdown",
      "metadata": {},
      "source": [
        "5.6. Geef de unieke waarden in NSP **gesorteerd** van klein naar groot."
      ]
    },
    {
      "cell_type": "code",
      "execution_count": 24,
      "metadata": {},
      "outputs": [
        {
          "data": {
            "text/plain": [
              "<pandas.core.groupby.generic.DataFrameGroupBy object at 0x000001943CAE8AC0>"
            ]
          },
          "execution_count": 24,
          "metadata": {},
          "output_type": "execute_result"
        }
      ],
      "source": [
        "df['NSP'].sort_values()"
      ]
    },
    {
      "cell_type": "markdown",
      "metadata": {},
      "source": [
        "5.7. Definieer de ColumnTransformer die toegepast wordt voor het standaardizeren van de waarden in de numerieke kolommen."
      ]
    },
    {
      "cell_type": "code",
      "execution_count": 26,
      "metadata": {},
      "outputs": [],
      "source": [
        "col_transform = ColumnTransformer(transformers=[\n",
        "    ('standard_scaler', StandardScaler(), numerical_ix)\n",
        "    ])"
      ]
    },
    {
      "cell_type": "markdown",
      "metadata": {},
      "source": [
        "5.8. Creëer de volgende 4 classifiers.  \n",
        "Bepaal telkens de optimale waarden voor de parameters gebruik makend van GridSearchCV.  \n",
        "Geef telkens de gevonden optimale waarden voor de classifier.  \n",
        "Geef telkens de accuracy.\n",
        "\n",
        "* Random Forest\n",
        "* Support Vector Machine\n",
        "* Multiple Class Logistic Regression\n",
        "* Decision Tree"
      ]
    },
    {
      "cell_type": "code",
      "execution_count": 31,
      "metadata": {},
      "outputs": [
        {
          "name": "stdout",
          "output_type": "stream",
          "text": [
            "best estimator = RandomForestClassifier(max_depth=10, max_leaf_nodes=18, random_state=42)\n",
            "best score = 0.9686292001189415\n",
            "accuracy --> 0.9718045112781954\n"
          ]
        }
      ],
      "source": [
        "# Random Forest\n",
        "param_grid = { \n",
        "    'n_estimators': [100, 200, 400, 600],\n",
        "    'max_leaf_nodes': [2, 4, 6, 10, 14, 16, 18],\n",
        "    'max_depth' : [2, 4, 6, 8, 10]\n",
        "}\n",
        "\n",
        "grid_svc_rfc = GridSearchCV(RandomForestClassifier(random_state = 42), param_grid, scoring='accuracy', cv=3)\n",
        "\n",
        "pipeline = Pipeline([\n",
        "    ('prep',col_transform),\n",
        "    ('grid_svc', grid_svc_rfc)\n",
        "])\n",
        "\n",
        "pipeline.fit(X_train, y_train)\n",
        "\n",
        "print(f\"best estimator = {grid_svc_rfc.best_estimator_}\")\n",
        "print(f\"best score = {grid_svc_rfc.best_score_}\")\n",
        "\n",
        "y_pred = pipeline.predict(X_test)\n",
        "acc = accuracy_score(y_test, y_pred)\n",
        "\n",
        "print(f'accuracy --> {acc}')"
      ]
    },
    {
      "cell_type": "code",
      "execution_count": 35,
      "metadata": {},
      "outputs": [
        {
          "name": "stdout",
          "output_type": "stream",
          "text": [
            "best estimator = SVR(degree=1)\n",
            "best score = -0.13731701859966106\n"
          ]
        },
        {
          "ename": "ValueError",
          "evalue": "Classification metrics can't handle a mix of multiclass and continuous targets",
          "output_type": "error",
          "traceback": [
            "\u001b[1;31m---------------------------------------------------------------------------\u001b[0m",
            "\u001b[1;31mValueError\u001b[0m                                Traceback (most recent call last)",
            "\u001b[1;32mc:\\Users\\dylan\\Downloads\\examen.ipynb Cell 85'\u001b[0m in \u001b[0;36m<cell line: 15>\u001b[1;34m()\u001b[0m\n\u001b[0;32m     <a href='vscode-notebook-cell:/c%3A/Users/dylan/Downloads/examen.ipynb#ch0000084?line=11'>12</a>\u001b[0m \u001b[39mprint\u001b[39m(\u001b[39mf\u001b[39m\u001b[39m\"\u001b[39m\u001b[39mbest score = \u001b[39m\u001b[39m{\u001b[39;00mgrid_svc_svm\u001b[39m.\u001b[39mbest_score_\u001b[39m}\u001b[39;00m\u001b[39m\"\u001b[39m)\n\u001b[0;32m     <a href='vscode-notebook-cell:/c%3A/Users/dylan/Downloads/examen.ipynb#ch0000084?line=13'>14</a>\u001b[0m y_pred \u001b[39m=\u001b[39m pipeline\u001b[39m.\u001b[39mpredict(X_test)\n\u001b[1;32m---> <a href='vscode-notebook-cell:/c%3A/Users/dylan/Downloads/examen.ipynb#ch0000084?line=14'>15</a>\u001b[0m acc \u001b[39m=\u001b[39m accuracy_score(y_test, y_pred)\n\u001b[0;32m     <a href='vscode-notebook-cell:/c%3A/Users/dylan/Downloads/examen.ipynb#ch0000084?line=16'>17</a>\u001b[0m \u001b[39mprint\u001b[39m(\u001b[39mf\u001b[39m\u001b[39m'\u001b[39m\u001b[39maccuracy --> \u001b[39m\u001b[39m{\u001b[39;00macc\u001b[39m}\u001b[39;00m\u001b[39m'\u001b[39m)\n",
            "File \u001b[1;32m~\\AppData\\Local\\Packages\\PythonSoftwareFoundation.Python.3.9_qbz5n2kfra8p0\\LocalCache\\local-packages\\Python39\\site-packages\\sklearn\\metrics\\_classification.py:211\u001b[0m, in \u001b[0;36maccuracy_score\u001b[1;34m(y_true, y_pred, normalize, sample_weight)\u001b[0m\n\u001b[0;32m    145\u001b[0m \u001b[39m\"\"\"Accuracy classification score.\u001b[39;00m\n\u001b[0;32m    146\u001b[0m \n\u001b[0;32m    147\u001b[0m \u001b[39mIn multilabel classification, this function computes subset accuracy:\u001b[39;00m\n\u001b[1;32m   (...)\u001b[0m\n\u001b[0;32m    207\u001b[0m \u001b[39m0.5\u001b[39;00m\n\u001b[0;32m    208\u001b[0m \u001b[39m\"\"\"\u001b[39;00m\n\u001b[0;32m    210\u001b[0m \u001b[39m# Compute accuracy for each possible representation\u001b[39;00m\n\u001b[1;32m--> 211\u001b[0m y_type, y_true, y_pred \u001b[39m=\u001b[39m _check_targets(y_true, y_pred)\n\u001b[0;32m    212\u001b[0m check_consistent_length(y_true, y_pred, sample_weight)\n\u001b[0;32m    213\u001b[0m \u001b[39mif\u001b[39;00m y_type\u001b[39m.\u001b[39mstartswith(\u001b[39m\"\u001b[39m\u001b[39mmultilabel\u001b[39m\u001b[39m\"\u001b[39m):\n",
            "File \u001b[1;32m~\\AppData\\Local\\Packages\\PythonSoftwareFoundation.Python.3.9_qbz5n2kfra8p0\\LocalCache\\local-packages\\Python39\\site-packages\\sklearn\\metrics\\_classification.py:93\u001b[0m, in \u001b[0;36m_check_targets\u001b[1;34m(y_true, y_pred)\u001b[0m\n\u001b[0;32m     90\u001b[0m     y_type \u001b[39m=\u001b[39m {\u001b[39m\"\u001b[39m\u001b[39mmulticlass\u001b[39m\u001b[39m\"\u001b[39m}\n\u001b[0;32m     92\u001b[0m \u001b[39mif\u001b[39;00m \u001b[39mlen\u001b[39m(y_type) \u001b[39m>\u001b[39m \u001b[39m1\u001b[39m:\n\u001b[1;32m---> 93\u001b[0m     \u001b[39mraise\u001b[39;00m \u001b[39mValueError\u001b[39;00m(\n\u001b[0;32m     94\u001b[0m         \u001b[39m\"\u001b[39m\u001b[39mClassification metrics can\u001b[39m\u001b[39m'\u001b[39m\u001b[39mt handle a mix of \u001b[39m\u001b[39m{0}\u001b[39;00m\u001b[39m and \u001b[39m\u001b[39m{1}\u001b[39;00m\u001b[39m targets\u001b[39m\u001b[39m\"\u001b[39m\u001b[39m.\u001b[39mformat(\n\u001b[0;32m     95\u001b[0m             type_true, type_pred\n\u001b[0;32m     96\u001b[0m         )\n\u001b[0;32m     97\u001b[0m     )\n\u001b[0;32m     99\u001b[0m \u001b[39m# We can't have more than one value on y_type => The set is no more needed\u001b[39;00m\n\u001b[0;32m    100\u001b[0m y_type \u001b[39m=\u001b[39m y_type\u001b[39m.\u001b[39mpop()\n",
            "\u001b[1;31mValueError\u001b[0m: Classification metrics can't handle a mix of multiclass and continuous targets"
          ]
        }
      ],
      "source": [
        "# SVM\n",
        "from sklearn.svm import SVR\n",
        "svr_params = {'epsilon': [0.1, 0.5, 1.0, 1.5, 2.0, 2.5, 3.0, 3.5], \"kernel\": [\"rbf\", \"poly\", \"sigmoid\", \"linear\"], \"degree\": [1, 2, 3]}\n",
        "\n",
        "grid_svc_svm = GridSearchCV(SVR(), svr_params, scoring='neg_mean_absolute_error', cv=3)\n",
        "pipeline = Pipeline([('prep',col_transform), ('grid_svc', grid_svc_svm)])\n",
        "pipeline.fit(X_train, y_train)\n",
        "\n",
        "# best estimator\n",
        "print(f\"best estimator = {grid_svc_svm.best_estimator_}\")\n",
        "# best score\n",
        "print(f\"best score = {grid_svc_svm.best_score_}\")\n",
        "\n",
        "y_pred = pipeline.predict(X_test)\n",
        "acc = accuracy_score(y_test, y_pred)\n",
        "\n",
        "print(f'accuracy --> {acc}')"
      ]
    },
    {
      "cell_type": "code",
      "execution_count": 34,
      "metadata": {},
      "outputs": [
        {
          "name": "stdout",
          "output_type": "stream",
          "text": [
            "accuracy --> 0.9718045112781954\n"
          ]
        }
      ],
      "source": [
        "# Logistic Regression\n",
        "param_grid = {'C': [0.001, 0.01, 0.1, 1, 10, 100, 1000] }\n",
        "\n",
        "grid_clf_lr = GridSearchCV(LogisticRegression(multi_class=\"multinomial\"), param_grid, scoring='accuracy', cv=3)\n",
        "\n",
        "pipeline.fit(X_train, y_train)\n",
        "\n",
        "print(f\"best estimator = {grid_clf_lr.best_estimator_}\")\n",
        "print(f\"best score = {grid_clf_lr.best_score_}\")\n",
        "\n",
        "y_pred = pipeline.predict(X_test)\n",
        "acc = accuracy_score(y_test, y_pred)\n",
        "\n",
        "print(f'accuracy --> {acc}')"
      ]
    },
    {
      "cell_type": "code",
      "execution_count": 32,
      "metadata": {},
      "outputs": [
        {
          "name": "stdout",
          "output_type": "stream",
          "text": [
            "best estimator = DecisionTreeClassifier(criterion='entropy', max_depth=3, min_samples_leaf=0.05,\n",
            "                       min_samples_split=0.05, random_state=42)\n",
            "best score = 0.9654951880643227\n",
            "accuracy --> 0.9718045112781954\n"
          ]
        }
      ],
      "source": [
        "# Decision Tree\n",
        "from sklearn.tree import DecisionTreeClassifier\n",
        "\n",
        "param_grid = {\n",
        "    'criterion': [\"gini\", \"entropy\"],\n",
        "    'max_depth': [1,2,3,4,5,6,7,8,9],\n",
        "    'min_samples_split': (0.05,0.1, 0.2, 0.3,0.4),\n",
        "    'min_samples_leaf': (0.05,0.1,0.2, 0.3,0.4)\n",
        "}\n",
        "\n",
        "grid_clf_dc = GridSearchCV(DecisionTreeClassifier(random_state = 42), param_grid, scoring='accuracy', cv=3)\n",
        "\n",
        "grid_clf_dc.fit(X_train,y_train)\n",
        "\n",
        "print(f\"best estimator = {grid_clf_dc.best_estimator_}\")\n",
        "print(f\"best score = {grid_clf_dc.best_score_}\")\n",
        "\n",
        "y_pred = pipeline.predict(X_test)\n",
        "acc = accuracy_score(y_test, y_pred)\n",
        "\n",
        "print(f'accuracy --> {acc}')"
      ]
    },
    {
      "cell_type": "markdown",
      "metadata": {},
      "source": [
        "5.9. Bepaal bij de Random Forest Classifier de relatieve belangrijkheid van elk van de features."
      ]
    },
    {
      "cell_type": "code",
      "execution_count": null,
      "metadata": {},
      "outputs": [],
      "source": [
        "importances = pd.DataFrame({'column_name': X.columns, 'importance': grid_svc_rfc.best_estimator_.feature_importances_})\n",
        "importances"
      ]
    },
    {
      "cell_type": "markdown",
      "metadata": {},
      "source": [
        "5.10. De resultaten van de Decision Tree Classifier zijn niet goed.   \n",
        "Implementeer een manier om deze te verbeteren."
      ]
    },
    {
      "cell_type": "code",
      "execution_count": 60,
      "metadata": {},
      "outputs": [],
      "source": [
        "# Ik zou in dit geval de minimumdiepte van de bomen gaan aanpakken. Dit zou ik verminderen tot we een aanvaardbare precisiegraad krijgen."
      ]
    },
    {
      "cell_type": "markdown",
      "metadata": {},
      "source": [
        "5.11. Creëer een ensemble dat bestaat uit elk van de voorgaande 4 classifiers mét hun optimale parameters. (Maak gebruik van de 'verbeterde versie' van de Decision Tree Classifier.)  \n",
        "Het moet mogelijk zijn in verdere stappen om de relatieve probabiliteiten van elk van de 3 klassen op te vragen.   \n",
        " \n",
        "Geef de accuracy en de confusion matrix van het ensemble."
      ]
    },
    {
      "cell_type": "code",
      "execution_count": 62,
      "metadata": {},
      "outputs": [
        {
          "ename": "AttributeError",
          "evalue": "'GridSearchCV' object has no attribute 'best_estimator_'",
          "output_type": "error",
          "traceback": [
            "\u001b[1;31m---------------------------------------------------------------------------\u001b[0m",
            "\u001b[1;31mAttributeError\u001b[0m                            Traceback (most recent call last)",
            "\u001b[1;32mc:\\Users\\dylan\\Downloads\\examen.ipynb Cell 93'\u001b[0m in \u001b[0;36m<cell line: 1>\u001b[1;34m()\u001b[0m\n\u001b[0;32m      <a href='vscode-notebook-cell:/c%3A/Users/dylan/Downloads/examen.ipynb#ch0000092?line=0'>1</a>\u001b[0m voting_clf \u001b[39m=\u001b[39m VotingClassifier(\n\u001b[1;32m----> <a href='vscode-notebook-cell:/c%3A/Users/dylan/Downloads/examen.ipynb#ch0000092?line=1'>2</a>\u001b[0m     estimators\u001b[39m=\u001b[39m[(\u001b[39m'\u001b[39m\u001b[39mlog_clf\u001b[39m\u001b[39m'\u001b[39m, grid_clf_lr\u001b[39m.\u001b[39;49mbest_estimator_), (\u001b[39m'\u001b[39m\u001b[39mrnd_clf\u001b[39m\u001b[39m'\u001b[39m, grid_svc_rfc\u001b[39m.\u001b[39mbest_estimator_), (\u001b[39m'\u001b[39m\u001b[39msvm_clf\u001b[39m\u001b[39m'\u001b[39m, grid_svc_svm\u001b[39m.\u001b[39mbest_estimator_), (\u001b[39m'\u001b[39m\u001b[39mdc_clf\u001b[39m\u001b[39m'\u001b[39m, grid_clf_dc\u001b[39m.\u001b[39mbest_estimator_)],\n\u001b[0;32m      <a href='vscode-notebook-cell:/c%3A/Users/dylan/Downloads/examen.ipynb#ch0000092?line=2'>3</a>\u001b[0m     voting\u001b[39m=\u001b[39m\u001b[39m'\u001b[39m\u001b[39msoft\u001b[39m\u001b[39m'\u001b[39m)\n\u001b[0;32m      <a href='vscode-notebook-cell:/c%3A/Users/dylan/Downloads/examen.ipynb#ch0000092?line=4'>5</a>\u001b[0m all_clf \u001b[39m=\u001b[39m [\n\u001b[0;32m      <a href='vscode-notebook-cell:/c%3A/Users/dylan/Downloads/examen.ipynb#ch0000092?line=5'>6</a>\u001b[0m   (\u001b[39m'\u001b[39m\u001b[39mlog_clf\u001b[39m\u001b[39m'\u001b[39m, grid_clf_lr\u001b[39m.\u001b[39mbest_estimator_), (\u001b[39m'\u001b[39m\u001b[39mrnd_clf\u001b[39m\u001b[39m'\u001b[39m, grid_svc_rfc\u001b[39m.\u001b[39mbest_estimator_),\n\u001b[0;32m      <a href='vscode-notebook-cell:/c%3A/Users/dylan/Downloads/examen.ipynb#ch0000092?line=6'>7</a>\u001b[0m   (\u001b[39m'\u001b[39m\u001b[39msvm_clf\u001b[39m\u001b[39m'\u001b[39m, grid_svc_svm\u001b[39m.\u001b[39mbest_estimator_), (\u001b[39m'\u001b[39m\u001b[39mdc_clf\u001b[39m\u001b[39m'\u001b[39m, grid_clf_dc\u001b[39m.\u001b[39mbest_estimator_), (\u001b[39m'\u001b[39m\u001b[39mvot_clf\u001b[39m\u001b[39m'\u001b[39m, voting_clf)\n\u001b[0;32m      <a href='vscode-notebook-cell:/c%3A/Users/dylan/Downloads/examen.ipynb#ch0000092?line=7'>8</a>\u001b[0m ]\n\u001b[0;32m     <a href='vscode-notebook-cell:/c%3A/Users/dylan/Downloads/examen.ipynb#ch0000092?line=9'>10</a>\u001b[0m \u001b[39mfor\u001b[39;00m clf_tuple \u001b[39min\u001b[39;00m all_clf:\n",
            "\u001b[1;31mAttributeError\u001b[0m: 'GridSearchCV' object has no attribute 'best_estimator_'"
          ]
        }
      ],
      "source": [
        "voting_clf = VotingClassifier(\n",
        "    estimators=[('log_clf', grid_clf_lr.best_estimator_), ('rnd_clf', grid_svc_rfc.best_estimator_), ('svm_clf', grid_svc_svm.best_estimator_), ('dc_clf', grid_clf_dc.best_estimator_)],\n",
        "    voting='soft')\n",
        "\n",
        "all_clf = [\n",
        "  ('log_clf', grid_clf_lr.best_estimator_), ('rnd_clf', grid_svc_rfc.best_estimator_),\n",
        "  ('svm_clf', grid_svc_svm.best_estimator_), ('dc_clf', grid_clf_dc.best_estimator_), ('vot_clf', voting_clf)\n",
        "]\n",
        "\n",
        "for clf_tuple in all_clf:\n",
        "  pipeline = Pipeline([\n",
        "    ('prep',col_transform),\n",
        "    (clf_tuple[0], clf_tuple[1])\n",
        "])\n",
        "\n",
        "  pipeline.fit(X_train, y_train)\n",
        "  y_pred = pipeline.predict(X_test)\n",
        "  tn, fp, fn, tp = confusion_matrix(y_test, y_pred).ravel()\n",
        "  print(f\"{clf_tuple[0]} accuracy_score = {accuracy_score(y_test, y_pred)}  TN = {tn}   FP = {fp}   FN = {fn}   TP = {tp}\")"
      ]
    },
    {
      "cell_type": "code",
      "execution_count": 37,
      "metadata": {},
      "outputs": [
        {
          "ename": "NameError",
          "evalue": "name 'all_clf' is not defined",
          "output_type": "error",
          "traceback": [
            "\u001b[1;31m---------------------------------------------------------------------------\u001b[0m",
            "\u001b[1;31mNameError\u001b[0m                                 Traceback (most recent call last)",
            "\u001b[1;32mc:\\Users\\dylan\\Downloads\\examen.ipynb Cell 94'\u001b[0m in \u001b[0;36m<cell line: 2>\u001b[1;34m()\u001b[0m\n\u001b[0;32m      <a href='vscode-notebook-cell:/c%3A/Users/dylan/Downloads/examen.ipynb#ch0000115?line=0'>1</a>\u001b[0m \u001b[39mfrom\u001b[39;00m \u001b[39msklearn\u001b[39;00m\u001b[39m.\u001b[39;00m\u001b[39mmodel_selection\u001b[39;00m \u001b[39mimport\u001b[39;00m cross_val_predict\n\u001b[1;32m----> <a href='vscode-notebook-cell:/c%3A/Users/dylan/Downloads/examen.ipynb#ch0000115?line=1'>2</a>\u001b[0m y_train_pred \u001b[39m=\u001b[39m cross_val_predict(all_clf, X_train, y_train, cv\u001b[39m=\u001b[39m\u001b[39m3\u001b[39m)\n\u001b[0;32m      <a href='vscode-notebook-cell:/c%3A/Users/dylan/Downloads/examen.ipynb#ch0000115?line=3'>4</a>\u001b[0m conf_mx \u001b[39m=\u001b[39m confusion_matrix(y_test, y_pred)\n\u001b[0;32m      <a href='vscode-notebook-cell:/c%3A/Users/dylan/Downloads/examen.ipynb#ch0000115?line=4'>5</a>\u001b[0m labels \u001b[39m=\u001b[39m [\u001b[39m'\u001b[39m\u001b[39m0\u001b[39m\u001b[39m'\u001b[39m,\u001b[39m'\u001b[39m\u001b[39m1\u001b[39m\u001b[39m'\u001b[39m]\n",
            "\u001b[1;31mNameError\u001b[0m: name 'all_clf' is not defined"
          ]
        }
      ],
      "source": [
        "from sklearn.model_selection import cross_val_predict\n",
        "\n",
        "y_train_pred = cross_val_predict(voting_clf, X_train, y_train, cv=3)\n",
        "conf_mx = confusion_matrix(y_test, y_pred)\n",
        "labels = ['0','1']\n",
        "\n",
        "cf = sns.heatmap(conf_mx,square=True, annot=True, fmt='d', cbar=False, xticklabels=labels, yticklabels=labels)\n",
        "cf.set_xlabel('Predicted class')\n",
        "cf.set_ylabel('Actual class')"
      ]
    },
    {
      "cell_type": "markdown",
      "metadata": {},
      "source": [
        "5.12. Bekijk de confusion matrix goed. Hoewel de accuracy best ok lijkt, zijn de feitelijke resultaten niet goed. Stel dat we NSP = 2 (Suspect) en 3 (Pathologisch) zonder onderscheid volledig samennemen als zijnde Positief (~ er is iets aan de hand) en NSP = 1 (Normaal) beschouwen als zijnde Negatief (~ er is niets aan de hand).  \n",
        "Bereken en geef dan de precision op basis van de voorgaande confusion matrix."
      ]
    },
    {
      "cell_type": "code",
      "execution_count": null,
      "metadata": {},
      "outputs": [],
      "source": []
    },
    {
      "cell_type": "markdown",
      "metadata": {},
      "source": [
        "5.13. Bereken en geef dan de recall op basis van de voorgaande confusion matrix."
      ]
    },
    {
      "cell_type": "code",
      "execution_count": null,
      "metadata": {},
      "outputs": [],
      "source": [
        "from sklearn.metrics import precision_score, recall_score\n",
        "print(f\"The precision is: {precision_score(y_train, y_train_pred):.2%}\")\n",
        "print(f\"The recall is: {recall_score(y_train, y_train_pred):.2%}\")"
      ]
    },
    {
      "cell_type": "markdown",
      "metadata": {},
      "source": [
        "5.14. Wat is belangrijker in dit geval: precision of recall? Leg kort uit."
      ]
    },
    {
      "cell_type": "markdown",
      "metadata": {},
      "source": [
        "* Al zijn beide liefst even belangrijk, hier streven we naar een zo hoog mogelijke recall. We willen zeker zijn dat we zo veel mogelijk juiste voorspelde diagnoses kunnen stellen op basis van alle gegeven diagnoses."
      ]
    },
    {
      "cell_type": "markdown",
      "metadata": {},
      "source": [
        "5.15. Wat is een mogelijke verklaring voor deze slechte resultaten?"
      ]
    },
    {
      "cell_type": "markdown",
      "metadata": {},
      "source": [
        "* Niet genoeg data van elke klasse. We komen op maar 200-tal tot 300-tal waarden per klasse uit met uitzonder klasse 1 die hier bovenuit stijgt. Meer data verzamelen van de andere klassen zou hier de resultaten bevorderen."
      ]
    },
    {
      "cell_type": "markdown",
      "metadata": {},
      "source": [
        "5.16. We zijn niet blij met de bekomen resultaten, dus willen we een alternatief proberen.  \n",
        "De initiële dataset wordt weer ingelezen."
      ]
    },
    {
      "cell_type": "code",
      "execution_count": 64,
      "metadata": {},
      "outputs": [
        {
          "data": {
            "text/html": [
              "<div>\n",
              "<style scoped>\n",
              "    .dataframe tbody tr th:only-of-type {\n",
              "        vertical-align: middle;\n",
              "    }\n",
              "\n",
              "    .dataframe tbody tr th {\n",
              "        vertical-align: top;\n",
              "    }\n",
              "\n",
              "    .dataframe thead th {\n",
              "        text-align: right;\n",
              "    }\n",
              "</style>\n",
              "<table border=\"1\" class=\"dataframe\">\n",
              "  <thead>\n",
              "    <tr style=\"text-align: right;\">\n",
              "      <th></th>\n",
              "      <th>LB</th>\n",
              "      <th>AC</th>\n",
              "      <th>FM</th>\n",
              "      <th>UC</th>\n",
              "      <th>DL</th>\n",
              "      <th>DS</th>\n",
              "      <th>DP</th>\n",
              "      <th>ASTV</th>\n",
              "      <th>MSTV</th>\n",
              "      <th>ALTV</th>\n",
              "      <th>...</th>\n",
              "      <th>Max</th>\n",
              "      <th>Nmax</th>\n",
              "      <th>Nzeros</th>\n",
              "      <th>Mode</th>\n",
              "      <th>Mean</th>\n",
              "      <th>Median</th>\n",
              "      <th>Variance</th>\n",
              "      <th>Tendency</th>\n",
              "      <th>CLASS</th>\n",
              "      <th>NSP</th>\n",
              "    </tr>\n",
              "  </thead>\n",
              "  <tbody>\n",
              "    <tr>\n",
              "      <th>0</th>\n",
              "      <td>120.0</td>\n",
              "      <td>0.000</td>\n",
              "      <td>0.0</td>\n",
              "      <td>0.000</td>\n",
              "      <td>0.000</td>\n",
              "      <td>0.0</td>\n",
              "      <td>0.0</td>\n",
              "      <td>73.0</td>\n",
              "      <td>0.5</td>\n",
              "      <td>43.0</td>\n",
              "      <td>...</td>\n",
              "      <td>126.0</td>\n",
              "      <td>2.0</td>\n",
              "      <td>0.0</td>\n",
              "      <td>120.0</td>\n",
              "      <td>137.0</td>\n",
              "      <td>121.0</td>\n",
              "      <td>73.0</td>\n",
              "      <td>1.0</td>\n",
              "      <td>9</td>\n",
              "      <td>2.0</td>\n",
              "    </tr>\n",
              "    <tr>\n",
              "      <th>1</th>\n",
              "      <td>132.0</td>\n",
              "      <td>0.006</td>\n",
              "      <td>0.0</td>\n",
              "      <td>0.006</td>\n",
              "      <td>0.003</td>\n",
              "      <td>0.0</td>\n",
              "      <td>0.0</td>\n",
              "      <td>17.0</td>\n",
              "      <td>2.1</td>\n",
              "      <td>0.0</td>\n",
              "      <td>...</td>\n",
              "      <td>198.0</td>\n",
              "      <td>6.0</td>\n",
              "      <td>1.0</td>\n",
              "      <td>141.0</td>\n",
              "      <td>136.0</td>\n",
              "      <td>140.0</td>\n",
              "      <td>12.0</td>\n",
              "      <td>0.0</td>\n",
              "      <td>6</td>\n",
              "      <td>1.0</td>\n",
              "    </tr>\n",
              "    <tr>\n",
              "      <th>2</th>\n",
              "      <td>133.0</td>\n",
              "      <td>0.003</td>\n",
              "      <td>0.0</td>\n",
              "      <td>0.008</td>\n",
              "      <td>0.003</td>\n",
              "      <td>0.0</td>\n",
              "      <td>0.0</td>\n",
              "      <td>16.0</td>\n",
              "      <td>2.1</td>\n",
              "      <td>0.0</td>\n",
              "      <td>...</td>\n",
              "      <td>198.0</td>\n",
              "      <td>5.0</td>\n",
              "      <td>1.0</td>\n",
              "      <td>141.0</td>\n",
              "      <td>135.0</td>\n",
              "      <td>138.0</td>\n",
              "      <td>13.0</td>\n",
              "      <td>0.0</td>\n",
              "      <td>6</td>\n",
              "      <td>1.0</td>\n",
              "    </tr>\n",
              "    <tr>\n",
              "      <th>3</th>\n",
              "      <td>134.0</td>\n",
              "      <td>0.003</td>\n",
              "      <td>0.0</td>\n",
              "      <td>0.008</td>\n",
              "      <td>0.003</td>\n",
              "      <td>0.0</td>\n",
              "      <td>0.0</td>\n",
              "      <td>16.0</td>\n",
              "      <td>2.4</td>\n",
              "      <td>0.0</td>\n",
              "      <td>...</td>\n",
              "      <td>170.0</td>\n",
              "      <td>11.0</td>\n",
              "      <td>0.0</td>\n",
              "      <td>137.0</td>\n",
              "      <td>134.0</td>\n",
              "      <td>137.0</td>\n",
              "      <td>13.0</td>\n",
              "      <td>1.0</td>\n",
              "      <td>6</td>\n",
              "      <td>1.0</td>\n",
              "    </tr>\n",
              "    <tr>\n",
              "      <th>4</th>\n",
              "      <td>132.0</td>\n",
              "      <td>0.007</td>\n",
              "      <td>0.0</td>\n",
              "      <td>0.008</td>\n",
              "      <td>0.000</td>\n",
              "      <td>0.0</td>\n",
              "      <td>0.0</td>\n",
              "      <td>16.0</td>\n",
              "      <td>2.4</td>\n",
              "      <td>0.0</td>\n",
              "      <td>...</td>\n",
              "      <td>170.0</td>\n",
              "      <td>9.0</td>\n",
              "      <td>0.0</td>\n",
              "      <td>137.0</td>\n",
              "      <td>136.0</td>\n",
              "      <td>138.0</td>\n",
              "      <td>11.0</td>\n",
              "      <td>1.0</td>\n",
              "      <td>2</td>\n",
              "      <td>1.0</td>\n",
              "    </tr>\n",
              "  </tbody>\n",
              "</table>\n",
              "<p>5 rows × 23 columns</p>\n",
              "</div>"
            ],
            "text/plain": [
              "      LB     AC   FM     UC     DL   DS   DP  ASTV  MSTV  ALTV  ...    Max  \\\n",
              "0  120.0  0.000  0.0  0.000  0.000  0.0  0.0  73.0   0.5  43.0  ...  126.0   \n",
              "1  132.0  0.006  0.0  0.006  0.003  0.0  0.0  17.0   2.1   0.0  ...  198.0   \n",
              "2  133.0  0.003  0.0  0.008  0.003  0.0  0.0  16.0   2.1   0.0  ...  198.0   \n",
              "3  134.0  0.003  0.0  0.008  0.003  0.0  0.0  16.0   2.4   0.0  ...  170.0   \n",
              "4  132.0  0.007  0.0  0.008  0.000  0.0  0.0  16.0   2.4   0.0  ...  170.0   \n",
              "\n",
              "   Nmax  Nzeros   Mode   Mean  Median  Variance  Tendency  CLASS  NSP  \n",
              "0   2.0     0.0  120.0  137.0   121.0      73.0       1.0      9  2.0  \n",
              "1   6.0     1.0  141.0  136.0   140.0      12.0       0.0      6  1.0  \n",
              "2   5.0     1.0  141.0  135.0   138.0      13.0       0.0      6  1.0  \n",
              "3  11.0     0.0  137.0  134.0   137.0      13.0       1.0      6  1.0  \n",
              "4   9.0     0.0  137.0  136.0   138.0      11.0       1.0      2  1.0  \n",
              "\n",
              "[5 rows x 23 columns]"
            ]
          },
          "execution_count": 64,
          "metadata": {},
          "output_type": "execute_result"
        }
      ],
      "source": [
        "if colab:\n",
        "    df = pd.read_csv('/content/gdrive/MyDrive/DataEchos.csv', delimiter=\";\")\n",
        "else:\n",
        "    df = pd.read_csv('DataEchos.csv', delimiter=\";\")\n",
        "df.head()"
      ]
    },
    {
      "cell_type": "markdown",
      "metadata": {},
      "source": [
        "5.17. Maak het volgende overzicht.  \n",
        "Het valt op dat voor alle CLASS <= 4 => NSP = 1.0.\n",
        "Dit zou al een waardevolle voorspelling kunnen zijn. Stel dat we erin slagen om de CLASS zeer accuraat te voorspellen, dan kunnen we met quasi zekerheid zeggen dat alle records met CLASS <= 4 automatisch NSP = 1.0 impliceren. Op die manier zouden we automatisch al een groot aantal records als Normaal kunnen classificeren, zonder de tussenkomst van een expert.\n",
        "\n",
        "![image.png](data:image/png;base64,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)"
      ]
    },
    {
      "cell_type": "code",
      "execution_count": 70,
      "metadata": {},
      "outputs": [
        {
          "data": {
            "text/plain": [
              "CLASS\n",
              "1     384\n",
              "2     579\n",
              "3      53\n",
              "4      81\n",
              "5      72\n",
              "6     332\n",
              "7     252\n",
              "8     107\n",
              "9      69\n",
              "10    197\n",
              "Name: NSP, dtype: int64"
            ]
          },
          "execution_count": 70,
          "metadata": {},
          "output_type": "execute_result"
        }
      ],
      "source": [
        "# Schrijf hier de code om bovenstaand overzicht te genereren. \n",
        "df.groupby('CLASS')['NSP'].count()"
      ]
    },
    {
      "cell_type": "markdown",
      "metadata": {},
      "source": [
        "We willen nu **CLASS voorspellen** aan de  hand van een **regressiemodel**. "
      ]
    },
    {
      "cell_type": "code",
      "execution_count": 42,
      "metadata": {},
      "outputs": [],
      "source": [
        "# We bereiden het regressiemodel voor. \n",
        "\n",
        "X = df.drop(['CLASS', 'NSP'], axis = 1)\n",
        "y_class = df['CLASS']\n",
        "y_nsp = df['NSP']\n",
        "\n",
        "from sklearn.model_selection import train_test_split\n",
        "\n",
        "X_train, X_test, y_class_train, y_class_test, y_nsp_train, y_nsp_test = train_test_split(X, y_class, y_nsp, random_state=42)"
      ]
    },
    {
      "cell_type": "markdown",
      "metadata": {},
      "source": [
        "5.18. Maak gebruik van regressie om de waarde voor CLASS te proberen voorspellen.  "
      ]
    },
    {
      "cell_type": "code",
      "execution_count": 57,
      "metadata": {},
      "outputs": [
        {
          "data": {
            "text/plain": [
              "GridSearchCV(cv=3, estimator=RandomForestRegressor(random_state=42),\n",
              "             param_grid=[{'n_estimators': [3, 5, 10, 50]}],\n",
              "             return_train_score=True, scoring='neg_mean_squared_error')"
            ]
          },
          "execution_count": 57,
          "metadata": {},
          "output_type": "execute_result"
        }
      ],
      "source": [
        "from sklearn.ensemble import RandomForestRegressor\n",
        "forest_reg = RandomForestRegressor(random_state=42)\n",
        "\n",
        "param_grid = [\n",
        "    {'n_estimators': [3, 5, 10, 50]}\n",
        "  ]\n",
        "\n",
        "grid_search = GridSearchCV(\n",
        "    forest_reg, param_grid, cv=3,\n",
        "    scoring='neg_mean_squared_error',\n",
        "    return_train_score=True\n",
        ")\n",
        "\n",
        "grid_search.fit(X_train, y_train)"
      ]
    },
    {
      "cell_type": "markdown",
      "metadata": {},
      "source": [
        "5.19. Maak gebruik van mean absolute error om een benadering van de fout te vinden."
      ]
    },
    {
      "cell_type": "code",
      "execution_count": 58,
      "metadata": {},
      "outputs": [
        {
          "ename": "KeyError",
          "evalue": "\"['CLASS'] not in index\"",
          "output_type": "error",
          "traceback": [
            "\u001b[1;31m---------------------------------------------------------------------------\u001b[0m",
            "\u001b[1;31mEmpty\u001b[0m                                     Traceback (most recent call last)",
            "File \u001b[1;32m~\\AppData\\Local\\Packages\\PythonSoftwareFoundation.Python.3.9_qbz5n2kfra8p0\\LocalCache\\local-packages\\Python39\\site-packages\\joblib\\parallel.py:822\u001b[0m, in \u001b[0;36mParallel.dispatch_one_batch\u001b[1;34m(self, iterator)\u001b[0m\n\u001b[0;32m    821\u001b[0m \u001b[39mtry\u001b[39;00m:\n\u001b[1;32m--> 822\u001b[0m     tasks \u001b[39m=\u001b[39m \u001b[39mself\u001b[39;49m\u001b[39m.\u001b[39;49m_ready_batches\u001b[39m.\u001b[39;49mget(block\u001b[39m=\u001b[39;49m\u001b[39mFalse\u001b[39;49;00m)\n\u001b[0;32m    823\u001b[0m \u001b[39mexcept\u001b[39;00m queue\u001b[39m.\u001b[39mEmpty:\n\u001b[0;32m    824\u001b[0m     \u001b[39m# slice the iterator n_jobs * batchsize items at a time. If the\u001b[39;00m\n\u001b[0;32m    825\u001b[0m     \u001b[39m# slice returns less than that, then the current batchsize puts\u001b[39;00m\n\u001b[1;32m   (...)\u001b[0m\n\u001b[0;32m    828\u001b[0m     \u001b[39m# accordingly to distribute evenly the last items between all\u001b[39;00m\n\u001b[0;32m    829\u001b[0m     \u001b[39m# workers.\u001b[39;00m\n",
            "File \u001b[1;32mC:\\Program Files\\WindowsApps\\PythonSoftwareFoundation.Python.3.9_3.9.3568.0_x64__qbz5n2kfra8p0\\lib\\queue.py:168\u001b[0m, in \u001b[0;36mQueue.get\u001b[1;34m(self, block, timeout)\u001b[0m\n\u001b[0;32m    167\u001b[0m     \u001b[39mif\u001b[39;00m \u001b[39mnot\u001b[39;00m \u001b[39mself\u001b[39m\u001b[39m.\u001b[39m_qsize():\n\u001b[1;32m--> 168\u001b[0m         \u001b[39mraise\u001b[39;00m Empty\n\u001b[0;32m    169\u001b[0m \u001b[39melif\u001b[39;00m timeout \u001b[39mis\u001b[39;00m \u001b[39mNone\u001b[39;00m:\n",
            "\u001b[1;31mEmpty\u001b[0m: ",
            "\nDuring handling of the above exception, another exception occurred:\n",
            "\u001b[1;31mKeyError\u001b[0m                                  Traceback (most recent call last)",
            "\u001b[1;32mc:\\Users\\dylan\\Downloads\\examen.ipynb Cell 112'\u001b[0m in \u001b[0;36m<cell line: 5>\u001b[1;34m()\u001b[0m\n\u001b[0;32m      <a href='vscode-notebook-cell:/c%3A/Users/dylan/Downloads/examen.ipynb#ch0000110?line=2'>3</a>\u001b[0m final_model \u001b[39m=\u001b[39m grid_search\u001b[39m.\u001b[39mbest_estimator_\n\u001b[0;32m      <a href='vscode-notebook-cell:/c%3A/Users/dylan/Downloads/examen.ipynb#ch0000110?line=3'>4</a>\u001b[0m final_predictions \u001b[39m=\u001b[39m final_model\u001b[39m.\u001b[39mpredict(X_test)\n\u001b[1;32m----> <a href='vscode-notebook-cell:/c%3A/Users/dylan/Downloads/examen.ipynb#ch0000110?line=4'>5</a>\u001b[0m y_predict \u001b[39m=\u001b[39m pipeline\u001b[39m.\u001b[39;49mpredict(X_test)\n\u001b[0;32m      <a href='vscode-notebook-cell:/c%3A/Users/dylan/Downloads/examen.ipynb#ch0000110?line=6'>7</a>\u001b[0m mae \u001b[39m=\u001b[39m mean_absolute_error(y_test, y_predict)\n\u001b[0;32m      <a href='vscode-notebook-cell:/c%3A/Users/dylan/Downloads/examen.ipynb#ch0000110?line=8'>9</a>\u001b[0m mae\n",
            "File \u001b[1;32m~\\AppData\\Local\\Packages\\PythonSoftwareFoundation.Python.3.9_qbz5n2kfra8p0\\LocalCache\\local-packages\\Python39\\site-packages\\sklearn\\utils\\metaestimators.py:113\u001b[0m, in \u001b[0;36m_AvailableIfDescriptor.__get__.<locals>.<lambda>\u001b[1;34m(*args, **kwargs)\u001b[0m\n\u001b[0;32m    110\u001b[0m         \u001b[39mraise\u001b[39;00m attr_err\n\u001b[0;32m    112\u001b[0m     \u001b[39m# lambda, but not partial, allows help() to work with update_wrapper\u001b[39;00m\n\u001b[1;32m--> 113\u001b[0m     out \u001b[39m=\u001b[39m \u001b[39mlambda\u001b[39;00m \u001b[39m*\u001b[39margs, \u001b[39m*\u001b[39m\u001b[39m*\u001b[39mkwargs: \u001b[39mself\u001b[39m\u001b[39m.\u001b[39mfn(obj, \u001b[39m*\u001b[39margs, \u001b[39m*\u001b[39m\u001b[39m*\u001b[39mkwargs)  \u001b[39m# noqa\u001b[39;00m\n\u001b[0;32m    114\u001b[0m \u001b[39melse\u001b[39;00m:\n\u001b[0;32m    116\u001b[0m     \u001b[39mdef\u001b[39;00m \u001b[39mfn\u001b[39m(\u001b[39m*\u001b[39margs, \u001b[39m*\u001b[39m\u001b[39m*\u001b[39mkwargs):\n",
            "File \u001b[1;32m~\\AppData\\Local\\Packages\\PythonSoftwareFoundation.Python.3.9_qbz5n2kfra8p0\\LocalCache\\local-packages\\Python39\\site-packages\\sklearn\\pipeline.py:469\u001b[0m, in \u001b[0;36mPipeline.predict\u001b[1;34m(self, X, **predict_params)\u001b[0m\n\u001b[0;32m    467\u001b[0m Xt \u001b[39m=\u001b[39m X\n\u001b[0;32m    468\u001b[0m \u001b[39mfor\u001b[39;00m _, name, transform \u001b[39min\u001b[39;00m \u001b[39mself\u001b[39m\u001b[39m.\u001b[39m_iter(with_final\u001b[39m=\u001b[39m\u001b[39mFalse\u001b[39;00m):\n\u001b[1;32m--> 469\u001b[0m     Xt \u001b[39m=\u001b[39m transform\u001b[39m.\u001b[39;49mtransform(Xt)\n\u001b[0;32m    470\u001b[0m \u001b[39mreturn\u001b[39;00m \u001b[39mself\u001b[39m\u001b[39m.\u001b[39msteps[\u001b[39m-\u001b[39m\u001b[39m1\u001b[39m][\u001b[39m1\u001b[39m]\u001b[39m.\u001b[39mpredict(Xt, \u001b[39m*\u001b[39m\u001b[39m*\u001b[39mpredict_params)\n",
            "File \u001b[1;32m~\\AppData\\Local\\Packages\\PythonSoftwareFoundation.Python.3.9_qbz5n2kfra8p0\\LocalCache\\local-packages\\Python39\\site-packages\\sklearn\\compose\\_column_transformer.py:748\u001b[0m, in \u001b[0;36mColumnTransformer.transform\u001b[1;34m(self, X)\u001b[0m\n\u001b[0;32m    743\u001b[0m \u001b[39melse\u001b[39;00m:\n\u001b[0;32m    744\u001b[0m     \u001b[39m# ndarray was used for fitting or transforming, thus we only\u001b[39;00m\n\u001b[0;32m    745\u001b[0m     \u001b[39m# check that n_features_in_ is consistent\u001b[39;00m\n\u001b[0;32m    746\u001b[0m     \u001b[39mself\u001b[39m\u001b[39m.\u001b[39m_check_n_features(X, reset\u001b[39m=\u001b[39m\u001b[39mFalse\u001b[39;00m)\n\u001b[1;32m--> 748\u001b[0m Xs \u001b[39m=\u001b[39m \u001b[39mself\u001b[39;49m\u001b[39m.\u001b[39;49m_fit_transform(\n\u001b[0;32m    749\u001b[0m     X,\n\u001b[0;32m    750\u001b[0m     \u001b[39mNone\u001b[39;49;00m,\n\u001b[0;32m    751\u001b[0m     _transform_one,\n\u001b[0;32m    752\u001b[0m     fitted\u001b[39m=\u001b[39;49m\u001b[39mTrue\u001b[39;49;00m,\n\u001b[0;32m    753\u001b[0m     column_as_strings\u001b[39m=\u001b[39;49mfit_dataframe_and_transform_dataframe,\n\u001b[0;32m    754\u001b[0m )\n\u001b[0;32m    755\u001b[0m \u001b[39mself\u001b[39m\u001b[39m.\u001b[39m_validate_output(Xs)\n\u001b[0;32m    757\u001b[0m \u001b[39mif\u001b[39;00m \u001b[39mnot\u001b[39;00m Xs:\n\u001b[0;32m    758\u001b[0m     \u001b[39m# All transformers are None\u001b[39;00m\n",
            "File \u001b[1;32m~\\AppData\\Local\\Packages\\PythonSoftwareFoundation.Python.3.9_qbz5n2kfra8p0\\LocalCache\\local-packages\\Python39\\site-packages\\sklearn\\compose\\_column_transformer.py:606\u001b[0m, in \u001b[0;36mColumnTransformer._fit_transform\u001b[1;34m(self, X, y, func, fitted, column_as_strings)\u001b[0m\n\u001b[0;32m    600\u001b[0m transformers \u001b[39m=\u001b[39m \u001b[39mlist\u001b[39m(\n\u001b[0;32m    601\u001b[0m     \u001b[39mself\u001b[39m\u001b[39m.\u001b[39m_iter(\n\u001b[0;32m    602\u001b[0m         fitted\u001b[39m=\u001b[39mfitted, replace_strings\u001b[39m=\u001b[39m\u001b[39mTrue\u001b[39;00m, column_as_strings\u001b[39m=\u001b[39mcolumn_as_strings\n\u001b[0;32m    603\u001b[0m     )\n\u001b[0;32m    604\u001b[0m )\n\u001b[0;32m    605\u001b[0m \u001b[39mtry\u001b[39;00m:\n\u001b[1;32m--> 606\u001b[0m     \u001b[39mreturn\u001b[39;00m Parallel(n_jobs\u001b[39m=\u001b[39;49m\u001b[39mself\u001b[39;49m\u001b[39m.\u001b[39;49mn_jobs)(\n\u001b[0;32m    607\u001b[0m         delayed(func)(\n\u001b[0;32m    608\u001b[0m             transformer\u001b[39m=\u001b[39;49mclone(trans) \u001b[39mif\u001b[39;49;00m \u001b[39mnot\u001b[39;49;00m fitted \u001b[39melse\u001b[39;49;00m trans,\n\u001b[0;32m    609\u001b[0m             X\u001b[39m=\u001b[39;49m_safe_indexing(X, column, axis\u001b[39m=\u001b[39;49m\u001b[39m1\u001b[39;49m),\n\u001b[0;32m    610\u001b[0m             y\u001b[39m=\u001b[39;49my,\n\u001b[0;32m    611\u001b[0m             weight\u001b[39m=\u001b[39;49mweight,\n\u001b[0;32m    612\u001b[0m             message_clsname\u001b[39m=\u001b[39;49m\u001b[39m\"\u001b[39;49m\u001b[39mColumnTransformer\u001b[39;49m\u001b[39m\"\u001b[39;49m,\n\u001b[0;32m    613\u001b[0m             message\u001b[39m=\u001b[39;49m\u001b[39mself\u001b[39;49m\u001b[39m.\u001b[39;49m_log_message(name, idx, \u001b[39mlen\u001b[39;49m(transformers)),\n\u001b[0;32m    614\u001b[0m         )\n\u001b[0;32m    615\u001b[0m         \u001b[39mfor\u001b[39;49;00m idx, (name, trans, column, weight) \u001b[39min\u001b[39;49;00m \u001b[39menumerate\u001b[39;49m(transformers, \u001b[39m1\u001b[39;49m)\n\u001b[0;32m    616\u001b[0m     )\n\u001b[0;32m    617\u001b[0m \u001b[39mexcept\u001b[39;00m \u001b[39mValueError\u001b[39;00m \u001b[39mas\u001b[39;00m e:\n\u001b[0;32m    618\u001b[0m     \u001b[39mif\u001b[39;00m \u001b[39m\"\u001b[39m\u001b[39mExpected 2D array, got 1D array instead\u001b[39m\u001b[39m\"\u001b[39m \u001b[39min\u001b[39;00m \u001b[39mstr\u001b[39m(e):\n",
            "File \u001b[1;32m~\\AppData\\Local\\Packages\\PythonSoftwareFoundation.Python.3.9_qbz5n2kfra8p0\\LocalCache\\local-packages\\Python39\\site-packages\\joblib\\parallel.py:1043\u001b[0m, in \u001b[0;36mParallel.__call__\u001b[1;34m(self, iterable)\u001b[0m\n\u001b[0;32m   1034\u001b[0m \u001b[39mtry\u001b[39;00m:\n\u001b[0;32m   1035\u001b[0m     \u001b[39m# Only set self._iterating to True if at least a batch\u001b[39;00m\n\u001b[0;32m   1036\u001b[0m     \u001b[39m# was dispatched. In particular this covers the edge\u001b[39;00m\n\u001b[1;32m   (...)\u001b[0m\n\u001b[0;32m   1040\u001b[0m     \u001b[39m# was very quick and its callback already dispatched all the\u001b[39;00m\n\u001b[0;32m   1041\u001b[0m     \u001b[39m# remaining jobs.\u001b[39;00m\n\u001b[0;32m   1042\u001b[0m     \u001b[39mself\u001b[39m\u001b[39m.\u001b[39m_iterating \u001b[39m=\u001b[39m \u001b[39mFalse\u001b[39;00m\n\u001b[1;32m-> 1043\u001b[0m     \u001b[39mif\u001b[39;00m \u001b[39mself\u001b[39;49m\u001b[39m.\u001b[39;49mdispatch_one_batch(iterator):\n\u001b[0;32m   1044\u001b[0m         \u001b[39mself\u001b[39m\u001b[39m.\u001b[39m_iterating \u001b[39m=\u001b[39m \u001b[39mself\u001b[39m\u001b[39m.\u001b[39m_original_iterator \u001b[39mis\u001b[39;00m \u001b[39mnot\u001b[39;00m \u001b[39mNone\u001b[39;00m\n\u001b[0;32m   1046\u001b[0m     \u001b[39mwhile\u001b[39;00m \u001b[39mself\u001b[39m\u001b[39m.\u001b[39mdispatch_one_batch(iterator):\n",
            "File \u001b[1;32m~\\AppData\\Local\\Packages\\PythonSoftwareFoundation.Python.3.9_qbz5n2kfra8p0\\LocalCache\\local-packages\\Python39\\site-packages\\joblib\\parallel.py:833\u001b[0m, in \u001b[0;36mParallel.dispatch_one_batch\u001b[1;34m(self, iterator)\u001b[0m\n\u001b[0;32m    830\u001b[0m n_jobs \u001b[39m=\u001b[39m \u001b[39mself\u001b[39m\u001b[39m.\u001b[39m_cached_effective_n_jobs\n\u001b[0;32m    831\u001b[0m big_batch_size \u001b[39m=\u001b[39m batch_size \u001b[39m*\u001b[39m n_jobs\n\u001b[1;32m--> 833\u001b[0m islice \u001b[39m=\u001b[39m \u001b[39mlist\u001b[39;49m(itertools\u001b[39m.\u001b[39;49mislice(iterator, big_batch_size))\n\u001b[0;32m    834\u001b[0m \u001b[39mif\u001b[39;00m \u001b[39mlen\u001b[39m(islice) \u001b[39m==\u001b[39m \u001b[39m0\u001b[39m:\n\u001b[0;32m    835\u001b[0m     \u001b[39mreturn\u001b[39;00m \u001b[39mFalse\u001b[39;00m\n",
            "File \u001b[1;32m~\\AppData\\Local\\Packages\\PythonSoftwareFoundation.Python.3.9_qbz5n2kfra8p0\\LocalCache\\local-packages\\Python39\\site-packages\\sklearn\\compose\\_column_transformer.py:609\u001b[0m, in \u001b[0;36m<genexpr>\u001b[1;34m(.0)\u001b[0m\n\u001b[0;32m    600\u001b[0m transformers \u001b[39m=\u001b[39m \u001b[39mlist\u001b[39m(\n\u001b[0;32m    601\u001b[0m     \u001b[39mself\u001b[39m\u001b[39m.\u001b[39m_iter(\n\u001b[0;32m    602\u001b[0m         fitted\u001b[39m=\u001b[39mfitted, replace_strings\u001b[39m=\u001b[39m\u001b[39mTrue\u001b[39;00m, column_as_strings\u001b[39m=\u001b[39mcolumn_as_strings\n\u001b[0;32m    603\u001b[0m     )\n\u001b[0;32m    604\u001b[0m )\n\u001b[0;32m    605\u001b[0m \u001b[39mtry\u001b[39;00m:\n\u001b[0;32m    606\u001b[0m     \u001b[39mreturn\u001b[39;00m Parallel(n_jobs\u001b[39m=\u001b[39m\u001b[39mself\u001b[39m\u001b[39m.\u001b[39mn_jobs)(\n\u001b[0;32m    607\u001b[0m         delayed(func)(\n\u001b[0;32m    608\u001b[0m             transformer\u001b[39m=\u001b[39mclone(trans) \u001b[39mif\u001b[39;00m \u001b[39mnot\u001b[39;00m fitted \u001b[39melse\u001b[39;00m trans,\n\u001b[1;32m--> 609\u001b[0m             X\u001b[39m=\u001b[39m_safe_indexing(X, column, axis\u001b[39m=\u001b[39;49m\u001b[39m1\u001b[39;49m),\n\u001b[0;32m    610\u001b[0m             y\u001b[39m=\u001b[39my,\n\u001b[0;32m    611\u001b[0m             weight\u001b[39m=\u001b[39mweight,\n\u001b[0;32m    612\u001b[0m             message_clsname\u001b[39m=\u001b[39m\u001b[39m\"\u001b[39m\u001b[39mColumnTransformer\u001b[39m\u001b[39m\"\u001b[39m,\n\u001b[0;32m    613\u001b[0m             message\u001b[39m=\u001b[39m\u001b[39mself\u001b[39m\u001b[39m.\u001b[39m_log_message(name, idx, \u001b[39mlen\u001b[39m(transformers)),\n\u001b[0;32m    614\u001b[0m         )\n\u001b[0;32m    615\u001b[0m         \u001b[39mfor\u001b[39;00m idx, (name, trans, column, weight) \u001b[39min\u001b[39;00m \u001b[39menumerate\u001b[39m(transformers, \u001b[39m1\u001b[39m)\n\u001b[0;32m    616\u001b[0m     )\n\u001b[0;32m    617\u001b[0m \u001b[39mexcept\u001b[39;00m \u001b[39mValueError\u001b[39;00m \u001b[39mas\u001b[39;00m e:\n\u001b[0;32m    618\u001b[0m     \u001b[39mif\u001b[39;00m \u001b[39m\"\u001b[39m\u001b[39mExpected 2D array, got 1D array instead\u001b[39m\u001b[39m\"\u001b[39m \u001b[39min\u001b[39;00m \u001b[39mstr\u001b[39m(e):\n",
            "File \u001b[1;32m~\\AppData\\Local\\Packages\\PythonSoftwareFoundation.Python.3.9_qbz5n2kfra8p0\\LocalCache\\local-packages\\Python39\\site-packages\\sklearn\\utils\\__init__.py:376\u001b[0m, in \u001b[0;36m_safe_indexing\u001b[1;34m(X, indices, axis)\u001b[0m\n\u001b[0;32m    370\u001b[0m     \u001b[39mraise\u001b[39;00m \u001b[39mValueError\u001b[39;00m(\n\u001b[0;32m    371\u001b[0m         \u001b[39m\"\u001b[39m\u001b[39mSpecifying the columns using strings is only supported for \u001b[39m\u001b[39m\"\u001b[39m\n\u001b[0;32m    372\u001b[0m         \u001b[39m\"\u001b[39m\u001b[39mpandas DataFrames\u001b[39m\u001b[39m\"\u001b[39m\n\u001b[0;32m    373\u001b[0m     )\n\u001b[0;32m    375\u001b[0m \u001b[39mif\u001b[39;00m \u001b[39mhasattr\u001b[39m(X, \u001b[39m\"\u001b[39m\u001b[39miloc\u001b[39m\u001b[39m\"\u001b[39m):\n\u001b[1;32m--> 376\u001b[0m     \u001b[39mreturn\u001b[39;00m _pandas_indexing(X, indices, indices_dtype, axis\u001b[39m=\u001b[39;49maxis)\n\u001b[0;32m    377\u001b[0m \u001b[39melif\u001b[39;00m \u001b[39mhasattr\u001b[39m(X, \u001b[39m\"\u001b[39m\u001b[39mshape\u001b[39m\u001b[39m\"\u001b[39m):\n\u001b[0;32m    378\u001b[0m     \u001b[39mreturn\u001b[39;00m _array_indexing(X, indices, indices_dtype, axis\u001b[39m=\u001b[39maxis)\n",
            "File \u001b[1;32m~\\AppData\\Local\\Packages\\PythonSoftwareFoundation.Python.3.9_qbz5n2kfra8p0\\LocalCache\\local-packages\\Python39\\site-packages\\sklearn\\utils\\__init__.py:222\u001b[0m, in \u001b[0;36m_pandas_indexing\u001b[1;34m(X, key, key_dtype, axis)\u001b[0m\n\u001b[0;32m    219\u001b[0m \u001b[39melse\u001b[39;00m:\n\u001b[0;32m    220\u001b[0m     \u001b[39m# check whether we should index with loc or iloc\u001b[39;00m\n\u001b[0;32m    221\u001b[0m     indexer \u001b[39m=\u001b[39m X\u001b[39m.\u001b[39miloc \u001b[39mif\u001b[39;00m key_dtype \u001b[39m==\u001b[39m \u001b[39m\"\u001b[39m\u001b[39mint\u001b[39m\u001b[39m\"\u001b[39m \u001b[39melse\u001b[39;00m X\u001b[39m.\u001b[39mloc\n\u001b[1;32m--> 222\u001b[0m     \u001b[39mreturn\u001b[39;00m indexer[:, key] \u001b[39mif\u001b[39;00m axis \u001b[39melse\u001b[39;00m indexer[key]\n",
            "File \u001b[1;32m~\\AppData\\Local\\Packages\\PythonSoftwareFoundation.Python.3.9_qbz5n2kfra8p0\\LocalCache\\local-packages\\Python39\\site-packages\\pandas\\core\\indexing.py:961\u001b[0m, in \u001b[0;36m_LocationIndexer.__getitem__\u001b[1;34m(self, key)\u001b[0m\n\u001b[0;32m    959\u001b[0m     \u001b[39mif\u001b[39;00m \u001b[39mself\u001b[39m\u001b[39m.\u001b[39m_is_scalar_access(key):\n\u001b[0;32m    960\u001b[0m         \u001b[39mreturn\u001b[39;00m \u001b[39mself\u001b[39m\u001b[39m.\u001b[39mobj\u001b[39m.\u001b[39m_get_value(\u001b[39m*\u001b[39mkey, takeable\u001b[39m=\u001b[39m\u001b[39mself\u001b[39m\u001b[39m.\u001b[39m_takeable)\n\u001b[1;32m--> 961\u001b[0m     \u001b[39mreturn\u001b[39;00m \u001b[39mself\u001b[39;49m\u001b[39m.\u001b[39;49m_getitem_tuple(key)\n\u001b[0;32m    962\u001b[0m \u001b[39melse\u001b[39;00m:\n\u001b[0;32m    963\u001b[0m     \u001b[39m# we by definition only have the 0th axis\u001b[39;00m\n\u001b[0;32m    964\u001b[0m     axis \u001b[39m=\u001b[39m \u001b[39mself\u001b[39m\u001b[39m.\u001b[39maxis \u001b[39mor\u001b[39;00m \u001b[39m0\u001b[39m\n",
            "File \u001b[1;32m~\\AppData\\Local\\Packages\\PythonSoftwareFoundation.Python.3.9_qbz5n2kfra8p0\\LocalCache\\local-packages\\Python39\\site-packages\\pandas\\core\\indexing.py:1149\u001b[0m, in \u001b[0;36m_LocIndexer._getitem_tuple\u001b[1;34m(self, tup)\u001b[0m\n\u001b[0;32m   1146\u001b[0m \u001b[39mif\u001b[39;00m \u001b[39mself\u001b[39m\u001b[39m.\u001b[39m_multi_take_opportunity(tup):\n\u001b[0;32m   1147\u001b[0m     \u001b[39mreturn\u001b[39;00m \u001b[39mself\u001b[39m\u001b[39m.\u001b[39m_multi_take(tup)\n\u001b[1;32m-> 1149\u001b[0m \u001b[39mreturn\u001b[39;00m \u001b[39mself\u001b[39;49m\u001b[39m.\u001b[39;49m_getitem_tuple_same_dim(tup)\n",
            "File \u001b[1;32m~\\AppData\\Local\\Packages\\PythonSoftwareFoundation.Python.3.9_qbz5n2kfra8p0\\LocalCache\\local-packages\\Python39\\site-packages\\pandas\\core\\indexing.py:827\u001b[0m, in \u001b[0;36m_LocationIndexer._getitem_tuple_same_dim\u001b[1;34m(self, tup)\u001b[0m\n\u001b[0;32m    824\u001b[0m \u001b[39mif\u001b[39;00m com\u001b[39m.\u001b[39mis_null_slice(key):\n\u001b[0;32m    825\u001b[0m     \u001b[39mcontinue\u001b[39;00m\n\u001b[1;32m--> 827\u001b[0m retval \u001b[39m=\u001b[39m \u001b[39mgetattr\u001b[39;49m(retval, \u001b[39mself\u001b[39;49m\u001b[39m.\u001b[39;49mname)\u001b[39m.\u001b[39;49m_getitem_axis(key, axis\u001b[39m=\u001b[39;49mi)\n\u001b[0;32m    828\u001b[0m \u001b[39m# We should never have retval.ndim < self.ndim, as that should\u001b[39;00m\n\u001b[0;32m    829\u001b[0m \u001b[39m#  be handled by the _getitem_lowerdim call above.\u001b[39;00m\n\u001b[0;32m    830\u001b[0m \u001b[39massert\u001b[39;00m retval\u001b[39m.\u001b[39mndim \u001b[39m==\u001b[39m \u001b[39mself\u001b[39m\u001b[39m.\u001b[39mndim\n",
            "File \u001b[1;32m~\\AppData\\Local\\Packages\\PythonSoftwareFoundation.Python.3.9_qbz5n2kfra8p0\\LocalCache\\local-packages\\Python39\\site-packages\\pandas\\core\\indexing.py:1191\u001b[0m, in \u001b[0;36m_LocIndexer._getitem_axis\u001b[1;34m(self, key, axis)\u001b[0m\n\u001b[0;32m   1188\u001b[0m     \u001b[39mif\u001b[39;00m \u001b[39mhasattr\u001b[39m(key, \u001b[39m\"\u001b[39m\u001b[39mndim\u001b[39m\u001b[39m\"\u001b[39m) \u001b[39mand\u001b[39;00m key\u001b[39m.\u001b[39mndim \u001b[39m>\u001b[39m \u001b[39m1\u001b[39m:\n\u001b[0;32m   1189\u001b[0m         \u001b[39mraise\u001b[39;00m \u001b[39mValueError\u001b[39;00m(\u001b[39m\"\u001b[39m\u001b[39mCannot index with multidimensional key\u001b[39m\u001b[39m\"\u001b[39m)\n\u001b[1;32m-> 1191\u001b[0m     \u001b[39mreturn\u001b[39;00m \u001b[39mself\u001b[39;49m\u001b[39m.\u001b[39;49m_getitem_iterable(key, axis\u001b[39m=\u001b[39;49maxis)\n\u001b[0;32m   1193\u001b[0m \u001b[39m# nested tuple slicing\u001b[39;00m\n\u001b[0;32m   1194\u001b[0m \u001b[39mif\u001b[39;00m is_nested_tuple(key, labels):\n",
            "File \u001b[1;32m~\\AppData\\Local\\Packages\\PythonSoftwareFoundation.Python.3.9_qbz5n2kfra8p0\\LocalCache\\local-packages\\Python39\\site-packages\\pandas\\core\\indexing.py:1132\u001b[0m, in \u001b[0;36m_LocIndexer._getitem_iterable\u001b[1;34m(self, key, axis)\u001b[0m\n\u001b[0;32m   1129\u001b[0m \u001b[39mself\u001b[39m\u001b[39m.\u001b[39m_validate_key(key, axis)\n\u001b[0;32m   1131\u001b[0m \u001b[39m# A collection of keys\u001b[39;00m\n\u001b[1;32m-> 1132\u001b[0m keyarr, indexer \u001b[39m=\u001b[39m \u001b[39mself\u001b[39;49m\u001b[39m.\u001b[39;49m_get_listlike_indexer(key, axis)\n\u001b[0;32m   1133\u001b[0m \u001b[39mreturn\u001b[39;00m \u001b[39mself\u001b[39m\u001b[39m.\u001b[39mobj\u001b[39m.\u001b[39m_reindex_with_indexers(\n\u001b[0;32m   1134\u001b[0m     {axis: [keyarr, indexer]}, copy\u001b[39m=\u001b[39m\u001b[39mTrue\u001b[39;00m, allow_dups\u001b[39m=\u001b[39m\u001b[39mTrue\u001b[39;00m\n\u001b[0;32m   1135\u001b[0m )\n",
            "File \u001b[1;32m~\\AppData\\Local\\Packages\\PythonSoftwareFoundation.Python.3.9_qbz5n2kfra8p0\\LocalCache\\local-packages\\Python39\\site-packages\\pandas\\core\\indexing.py:1327\u001b[0m, in \u001b[0;36m_LocIndexer._get_listlike_indexer\u001b[1;34m(self, key, axis)\u001b[0m\n\u001b[0;32m   1324\u001b[0m ax \u001b[39m=\u001b[39m \u001b[39mself\u001b[39m\u001b[39m.\u001b[39mobj\u001b[39m.\u001b[39m_get_axis(axis)\n\u001b[0;32m   1325\u001b[0m axis_name \u001b[39m=\u001b[39m \u001b[39mself\u001b[39m\u001b[39m.\u001b[39mobj\u001b[39m.\u001b[39m_get_axis_name(axis)\n\u001b[1;32m-> 1327\u001b[0m keyarr, indexer \u001b[39m=\u001b[39m ax\u001b[39m.\u001b[39;49m_get_indexer_strict(key, axis_name)\n\u001b[0;32m   1329\u001b[0m \u001b[39mreturn\u001b[39;00m keyarr, indexer\n",
            "File \u001b[1;32m~\\AppData\\Local\\Packages\\PythonSoftwareFoundation.Python.3.9_qbz5n2kfra8p0\\LocalCache\\local-packages\\Python39\\site-packages\\pandas\\core\\indexes\\base.py:5782\u001b[0m, in \u001b[0;36mIndex._get_indexer_strict\u001b[1;34m(self, key, axis_name)\u001b[0m\n\u001b[0;32m   5779\u001b[0m \u001b[39melse\u001b[39;00m:\n\u001b[0;32m   5780\u001b[0m     keyarr, indexer, new_indexer \u001b[39m=\u001b[39m \u001b[39mself\u001b[39m\u001b[39m.\u001b[39m_reindex_non_unique(keyarr)\n\u001b[1;32m-> 5782\u001b[0m \u001b[39mself\u001b[39;49m\u001b[39m.\u001b[39;49m_raise_if_missing(keyarr, indexer, axis_name)\n\u001b[0;32m   5784\u001b[0m keyarr \u001b[39m=\u001b[39m \u001b[39mself\u001b[39m\u001b[39m.\u001b[39mtake(indexer)\n\u001b[0;32m   5785\u001b[0m \u001b[39mif\u001b[39;00m \u001b[39misinstance\u001b[39m(key, Index):\n\u001b[0;32m   5786\u001b[0m     \u001b[39m# GH 42790 - Preserve name from an Index\u001b[39;00m\n",
            "File \u001b[1;32m~\\AppData\\Local\\Packages\\PythonSoftwareFoundation.Python.3.9_qbz5n2kfra8p0\\LocalCache\\local-packages\\Python39\\site-packages\\pandas\\core\\indexes\\base.py:5845\u001b[0m, in \u001b[0;36mIndex._raise_if_missing\u001b[1;34m(self, key, indexer, axis_name)\u001b[0m\n\u001b[0;32m   5842\u001b[0m     \u001b[39mraise\u001b[39;00m \u001b[39mKeyError\u001b[39;00m(\u001b[39mf\u001b[39m\u001b[39m\"\u001b[39m\u001b[39mNone of [\u001b[39m\u001b[39m{\u001b[39;00mkey\u001b[39m}\u001b[39;00m\u001b[39m] are in the [\u001b[39m\u001b[39m{\u001b[39;00maxis_name\u001b[39m}\u001b[39;00m\u001b[39m]\u001b[39m\u001b[39m\"\u001b[39m)\n\u001b[0;32m   5844\u001b[0m not_found \u001b[39m=\u001b[39m \u001b[39mlist\u001b[39m(ensure_index(key)[missing_mask\u001b[39m.\u001b[39mnonzero()[\u001b[39m0\u001b[39m]]\u001b[39m.\u001b[39munique())\n\u001b[1;32m-> 5845\u001b[0m \u001b[39mraise\u001b[39;00m \u001b[39mKeyError\u001b[39;00m(\u001b[39mf\u001b[39m\u001b[39m\"\u001b[39m\u001b[39m{\u001b[39;00mnot_found\u001b[39m}\u001b[39;00m\u001b[39m not in index\u001b[39m\u001b[39m\"\u001b[39m)\n",
            "\u001b[1;31mKeyError\u001b[0m: \"['CLASS'] not in index\""
          ]
        }
      ],
      "source": [
        "from sklearn.metrics import mean_absolute_error\n",
        "\n",
        "final_model = grid_search.best_estimator_\n",
        "final_predictions = final_model.predict(X_test)\n",
        "\n",
        "y_predict = pipeline.predict(X_test)\n",
        "\n",
        "mae = mean_absolute_error(y_test, y_predict)\n",
        "mae"
      ]
    },
    {
      "cell_type": "markdown",
      "metadata": {},
      "source": [
        "5.20. Bereken en geef het percentage records uit de test set dat een voorspelde waarde voor CLASS <= 4 heeft én toch als label NSP > 1 heeft. "
      ]
    },
    {
      "cell_type": "code",
      "execution_count": 55,
      "metadata": {},
      "outputs": [],
      "source": [
        "records = df[(df['CLASS'] <= 4) & (df['NSP'] > 1)]"
      ]
    }
  ],
  "metadata": {
    "colab": {
      "name": "Untitled0.ipynb",
      "provenance": []
    },
    "kernelspec": {
      "display_name": "Python 3.9.13 64-bit (windows store)",
      "language": "python",
      "name": "python3"
    },
    "language_info": {
      "codemirror_mode": {
        "name": "ipython",
        "version": 3
      },
      "file_extension": ".py",
      "mimetype": "text/x-python",
      "name": "python",
      "nbconvert_exporter": "python",
      "pygments_lexer": "ipython3",
      "version": "3.9.13"
    },
    "vscode": {
      "interpreter": {
        "hash": "461b8cd1ed42f26c365b05a87642eedf7a94d4e578d07d12c4b9e9e926e3307d"
      }
    }
  },
  "nbformat": 4,
  "nbformat_minor": 0
}
